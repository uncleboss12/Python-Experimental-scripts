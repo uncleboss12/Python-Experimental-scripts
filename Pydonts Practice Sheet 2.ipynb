{
 "cells": [
  {
   "cell_type": "markdown",
   "id": "937c70a6",
   "metadata": {},
   "source": [
    "## Truthy, Falsy, and bool"
   ]
  },
  {
   "cell_type": "code",
   "execution_count": 1,
   "id": "79e804c5",
   "metadata": {},
   "outputs": [
    {
     "name": "stdout",
     "output_type": "stream",
     "text": [
      "[3, 1, 6]\n",
      "Hello, World\n",
      "dict_keys(['a', 'b'])\n"
     ]
    }
   ],
   "source": [
    "l = [3, 1, 6]  \n",
    "if l :          # if len(l) > 0:\n",
    "    print(l)\n",
    "    \n",
    "n = 0      # if n != 0:\n",
    "if n:\n",
    "    l.append(n)\n",
    "    \n",
    "msg = 'Hello, World'   # if len(msg) > 0:\n",
    "if msg:\n",
    "    print(msg)\n",
    "    \n",
    "d = {'a': 2, 'b': 6}    # if len(d) > 0:\n",
    "if  d:\n",
    "    print(d.keys())"
   ]
  },
  {
   "cell_type": "markdown",
   "id": "a11aa641",
   "metadata": {},
   "source": [
    "### “Truthy” and “Falsy”"
   ]
  },
  {
   "cell_type": "code",
   "execution_count": 2,
   "id": "ef497362",
   "metadata": {},
   "outputs": [
    {
     "name": "stdout",
     "output_type": "stream",
     "text": [
      "Hello, World!\n"
     ]
    }
   ],
   "source": [
    "# Any object can be tested for truth value, for use\n",
    "# in an if or while condition or as operand of the\n",
    "# Boolean operations below [or, and and not].”\n",
    "\n",
    "if True: \n",
    "    print(\"Hello, World!\")\n",
    "    \n"
   ]
  },
  {
   "cell_type": "code",
   "execution_count": 3,
   "id": "b3259609",
   "metadata": {},
   "outputs": [],
   "source": [
    "if False:\n",
    "    print('Go away')"
   ]
  },
  {
   "cell_type": "code",
   "execution_count": 4,
   "id": "82792d8d",
   "metadata": {},
   "outputs": [
    {
     "data": {
      "text/plain": [
       "True"
      ]
     },
     "execution_count": 4,
     "metadata": {},
     "output_type": "execute_result"
    }
   ],
   "source": [
    "# This piece of code should not surprise you,\n",
    "# as it is very standard Python code: there are a\n",
    "#couple of if statements that make use of explicit\n",
    "# Boolean values. The next step is using an \n",
    "# expression that evaluates to a Boolean value\n",
    "5 > 3"
   ]
  },
  {
   "cell_type": "code",
   "execution_count": 5,
   "id": "26566eef",
   "metadata": {},
   "outputs": [
    {
     "name": "stdout",
     "output_type": "stream",
     "text": [
      "Hello, World\n"
     ]
    }
   ],
   "source": [
    "if 5 > 3:\n",
    "    print('Hello, World')"
   ]
  },
  {
   "cell_type": "code",
   "execution_count": 6,
   "id": "8bdc50bd",
   "metadata": {},
   "outputs": [
    {
     "name": "stdout",
     "output_type": "stream",
     "text": [
      "[1, 2, 3]\n"
     ]
    }
   ],
   "source": [
    "l = [1, 2, 3]\n",
    "if l:\n",
    "    print(l)"
   ]
  },
  {
   "cell_type": "code",
   "execution_count": 7,
   "id": "f0456264",
   "metadata": {},
   "outputs": [
    {
     "data": {
      "text/plain": [
       "True"
      ]
     },
     "execution_count": 7,
     "metadata": {},
     "output_type": "execute_result"
    }
   ],
   "source": [
    "bool(l)"
   ]
  },
  {
   "cell_type": "code",
   "execution_count": 8,
   "id": "3a2881aa",
   "metadata": {},
   "outputs": [
    {
     "data": {
      "text/plain": [
       "False"
      ]
     },
     "execution_count": 8,
     "metadata": {},
     "output_type": "execute_result"
    }
   ],
   "source": [
    "bool([])"
   ]
  },
  {
   "cell_type": "code",
   "execution_count": 9,
   "id": "04dd93d6",
   "metadata": {},
   "outputs": [
    {
     "data": {
      "text/plain": [
       "False"
      ]
     },
     "execution_count": 9,
     "metadata": {},
     "output_type": "execute_result"
    }
   ],
   "source": [
    "bool(\"\")"
   ]
  },
  {
   "cell_type": "markdown",
   "id": "044c7937",
   "metadata": {},
   "source": [
    "### The __bool__ dunder method"
   ]
  },
  {
   "cell_type": "code",
   "execution_count": 10,
   "id": "fce735c6",
   "metadata": {},
   "outputs": [],
   "source": [
    "class A:\n",
    "    pass"
   ]
  },
  {
   "cell_type": "code",
   "execution_count": 11,
   "id": "5e8d8a39",
   "metadata": {},
   "outputs": [],
   "source": [
    "a = A()"
   ]
  },
  {
   "cell_type": "code",
   "execution_count": 12,
   "id": "6814b744",
   "metadata": {},
   "outputs": [
    {
     "name": "stdout",
     "output_type": "stream",
     "text": [
      "Hello, World!\n"
     ]
    }
   ],
   "source": [
    "if a:\n",
    "    print('Hello, World!')"
   ]
  },
  {
   "cell_type": "code",
   "execution_count": 13,
   "id": "c7ba2df9",
   "metadata": {},
   "outputs": [],
   "source": [
    "class A:\n",
    "    def __bool__(self):\n",
    "        return False "
   ]
  },
  {
   "cell_type": "code",
   "execution_count": 14,
   "id": "58deb90b",
   "metadata": {},
   "outputs": [],
   "source": [
    "a = A()"
   ]
  },
  {
   "cell_type": "code",
   "execution_count": 15,
   "id": "952c0130",
   "metadata": {},
   "outputs": [],
   "source": [
    "if a:\n",
    "    print('Go Away!')"
   ]
  },
  {
   "cell_type": "markdown",
   "id": "c8e1cf2d",
   "metadata": {},
   "source": [
    "### A note about containers with falsy objects"
   ]
  },
  {
   "cell_type": "code",
   "execution_count": 16,
   "id": "1f8f6149",
   "metadata": {},
   "outputs": [
    {
     "data": {
      "text/plain": [
       "False"
      ]
     },
     "execution_count": 16,
     "metadata": {},
     "output_type": "execute_result"
    }
   ],
   "source": [
    "bool([])"
   ]
  },
  {
   "cell_type": "code",
   "execution_count": 17,
   "id": "3a8a24c4",
   "metadata": {},
   "outputs": [
    {
     "data": {
      "text/plain": [
       "False"
      ]
     },
     "execution_count": 17,
     "metadata": {},
     "output_type": "execute_result"
    }
   ],
   "source": [
    "bool({})"
   ]
  },
  {
   "cell_type": "code",
   "execution_count": 18,
   "id": "9615305b",
   "metadata": {},
   "outputs": [
    {
     "data": {
      "text/plain": [
       "False"
      ]
     },
     "execution_count": 18,
     "metadata": {},
     "output_type": "execute_result"
    }
   ],
   "source": [
    "bool(0)"
   ]
  },
  {
   "cell_type": "code",
   "execution_count": 19,
   "id": "a86c1564",
   "metadata": {
    "scrolled": true
   },
   "outputs": [
    {
     "data": {
      "text/plain": [
       "True"
      ]
     },
     "execution_count": 19,
     "metadata": {},
     "output_type": "execute_result"
    }
   ],
   "source": [
    "bool([0, 0, 0]) # A list with zeroes is not empty list"
   ]
  },
  {
   "cell_type": "code",
   "execution_count": 20,
   "id": "dd4a8f3b",
   "metadata": {
    "scrolled": true
   },
   "outputs": [
    {
     "data": {
      "text/plain": [
       "True"
      ]
     },
     "execution_count": 20,
     "metadata": {},
     "output_type": "execute_result"
    }
   ],
   "source": [
    "bool({0: []}) # A dict with a 0 key is not an empty dict."
   ]
  },
  {
   "cell_type": "markdown",
   "id": "964484a5",
   "metadata": {},
   "source": [
    "#### A note about checking for None"
   ]
  },
  {
   "cell_type": "code",
   "execution_count": 21,
   "id": "f3f1dfda",
   "metadata": {
    "scrolled": true
   },
   "outputs": [
    {
     "data": {
      "text/plain": [
       "False"
      ]
     },
     "execution_count": 21,
     "metadata": {},
     "output_type": "execute_result"
    }
   ],
   "source": [
    "bool(None)"
   ]
  },
  {
   "cell_type": "code",
   "execution_count": 22,
   "id": "f2abe472",
   "metadata": {},
   "outputs": [],
   "source": [
    "if None:\n",
    "    print('Go away!')"
   ]
  },
  {
   "cell_type": "code",
   "execution_count": 23,
   "id": "94d220aa",
   "metadata": {},
   "outputs": [],
   "source": [
    "import math\n",
    "def int_square_root(n):\n",
    "    if n < 0:\n",
    "        return None\n",
    "    return math.floor(math.sqrt(n))"
   ]
  },
  {
   "cell_type": "code",
   "execution_count": 24,
   "id": "509486a6",
   "metadata": {
    "scrolled": true
   },
   "outputs": [
    {
     "name": "stdout",
     "output_type": "stream",
     "text": [
      "Compute the integer square root of what? >> 34\n"
     ]
    }
   ],
   "source": [
    "n = int(input(\"Compute the integer square root of what? >> \"))\n",
    "\n",
    "int_sqrt = int_square_root(n)\n",
    "\n",
    "if not int_sqrt:\n",
    "    print(\"Negative numbers do not have an integer square root.\")"
   ]
  },
  {
   "cell_type": "code",
   "execution_count": 25,
   "id": "4cd1a2e8",
   "metadata": {
    "scrolled": true
   },
   "outputs": [
    {
     "name": "stdout",
     "output_type": "stream",
     "text": [
      "Negative numbers do not have an integer square root.\n"
     ]
    }
   ],
   "source": [
    "n = 0.5\n",
    "int_sqrt = int_square_root(n)\n",
    "if not int_sqrt:\n",
    "    print(\"Negative numbers do not have an integer square root.\")"
   ]
  },
  {
   "cell_type": "markdown",
   "id": "e7908ac0",
   "metadata": {},
   "source": [
    "#### 2D point"
   ]
  },
  {
   "cell_type": "code",
   "execution_count": 26,
   "id": "0cb8804e",
   "metadata": {},
   "outputs": [],
   "source": [
    "class Point2D:\n",
    "    \"\"\"A class to represent points in a 2D space.\"\"\"\n",
    "    \n",
    "    def __init__(self, x, y):\n",
    "        self.x = x\n",
    "        self.y = y\n",
    "        \n",
    "    def __str__(self):\n",
    "        \"\"\"Provide a good-looking representation of the object.\"\"\"\n",
    "        return f\"({self.x}, {self.y})\"\n",
    "    \n",
    "    def __repr__(self):\n",
    "        \"\"\"Provide an unambiguous way of rebuilding this object.\"\"\"\n",
    "        return f\"Point2D({repr(self.x)}, {repr(self.y)})\"\n",
    "    \n",
    "    def __bool__(self):\n",
    "        \"\"\"The origin is Falsy and all other points are Truthy.\"\"\"\n",
    "        return self.x or self.y"
   ]
  },
  {
   "cell_type": "code",
   "execution_count": 27,
   "id": "bcd10df1",
   "metadata": {},
   "outputs": [
    {
     "data": {
      "text/plain": [
       "Point2D(0, 0)"
      ]
     },
     "execution_count": 27,
     "metadata": {},
     "output_type": "execute_result"
    }
   ],
   "source": [
    "Point2D(0, 0)"
   ]
  },
  {
   "cell_type": "code",
   "execution_count": 28,
   "id": "167c3cbe",
   "metadata": {},
   "outputs": [
    {
     "ename": "TypeError",
     "evalue": "__bool__ should return bool, returned int",
     "output_type": "error",
     "traceback": [
      "\u001b[1;31m---------------------------------------------------------------------------\u001b[0m",
      "\u001b[1;31mTypeError\u001b[0m                                 Traceback (most recent call last)",
      "\u001b[1;32mC:\\Users\\JUSTIN~1.O_K\\AppData\\Local\\Temp/ipykernel_1300/1579441943.py\u001b[0m in \u001b[0;36m<module>\u001b[1;34m\u001b[0m\n\u001b[1;32m----> 1\u001b[1;33m \u001b[0mprint\u001b[0m\u001b[1;33m(\u001b[0m\u001b[0mbool\u001b[0m\u001b[1;33m(\u001b[0m\u001b[0mPoint2D\u001b[0m\u001b[1;33m(\u001b[0m\u001b[1;36m0\u001b[0m\u001b[1;33m,\u001b[0m \u001b[1;36m1\u001b[0m\u001b[1;33m)\u001b[0m\u001b[1;33m)\u001b[0m\u001b[1;33m)\u001b[0m \u001b[1;31m# True\u001b[0m\u001b[1;33m\u001b[0m\u001b[1;33m\u001b[0m\u001b[0m\n\u001b[0m",
      "\u001b[1;31mTypeError\u001b[0m: __bool__ should return bool, returned int"
     ]
    }
   ],
   "source": [
    "print(bool(Point2D(0, 1))) # True"
   ]
  },
  {
   "cell_type": "markdown",
   "id": "b15b71d7",
   "metadata": {},
   "source": [
    "### Handling error codes or error messages"
   ]
  },
  {
   "cell_type": "code",
   "execution_count": 29,
   "id": "012ecd30",
   "metadata": {},
   "outputs": [
    {
     "ename": "IndentationError",
     "evalue": "expected an indented block (Temp/ipykernel_1300/2454442724.py, line 4)",
     "output_type": "error",
     "traceback": [
      "\u001b[1;36m  File \u001b[1;32m\"C:\\Users\\JUSTIN~1.O_K\\AppData\\Local\\Temp/ipykernel_1300/2454442724.py\"\u001b[1;36m, line \u001b[1;32m4\u001b[0m\n\u001b[1;33m    \u001b[0m\n\u001b[1;37m    ^\u001b[0m\n\u001b[1;31mIndentationError\u001b[0m\u001b[1;31m:\u001b[0m expected an indented block\n"
     ]
    }
   ],
   "source": [
    "return_value, error_code = some_nice_function()\n",
    "if error_code:\n",
    "      # Something went wrong, act accordingly.\n",
    "    "
   ]
  },
  {
   "cell_type": "code",
   "execution_count": null,
   "id": "9948fb9f",
   "metadata": {
    "scrolled": true
   },
   "outputs": [],
   "source": [
    "## Alternatively, Something like:\n",
    "return_value, error_msg = some_other_nice_function()\n",
    "if error_msg:\n",
    "    print(error_msg)\n",
    "    # Something went wrong, act accordingly"
   ]
  },
  {
   "cell_type": "markdown",
   "id": "2c817612",
   "metadata": {},
   "source": [
    "### Processing Data"
   ]
  },
  {
   "cell_type": "code",
   "execution_count": 30,
   "id": "9e623407",
   "metadata": {
    "scrolled": false
   },
   "outputs": [
    {
     "name": "stdout",
     "output_type": "stream",
     "text": [
      "3\n",
      "2\n",
      "45\n",
      "7\n",
      "6\n",
      "8\n",
      "6\n",
      "8\n",
      "\n",
      "8\n"
     ]
    }
   ],
   "source": [
    "input_lines = []\n",
    "while (s := input()):\n",
    "    input_lines.append(s)\n",
    "## No more lines to read.\n",
    "print(len(input_lines))"
   ]
  },
  {
   "cell_type": "code",
   "execution_count": 31,
   "id": "716c7956",
   "metadata": {},
   "outputs": [],
   "source": [
    "# Another common pattern is when you have a list that\n",
    "# contains some data that you have to process, and such\n",
    "# that the list itself gets modified as you process\n",
    "# the data.\n",
    "# Consider the following example:\n",
    "\n",
    "import pathlib\n",
    "\n",
    "def print_file_sizes(dir):\n",
    "    \"\"\"Print file sizes in a directory, recurse into subdirs. \"\"\"\n",
    "    \n",
    "    paths_to_process = [dir]\n",
    "    while path_to_process:\n",
    "        path, *paths_to_process = paths_to_process\n",
    "        path_obj = pathlib.Path(path)\n",
    "        if path_obj.is_file():\n",
    "            print(path, path_obj.stat().st_size)\n",
    "        else:\n",
    "            paths_to_process += path_obj.glob(\"*\")"
   ]
  },
  {
   "cell_type": "markdown",
   "id": "7af4bacb",
   "metadata": {},
   "source": [
    "## DEEP UNPACKING "
   ]
  },
  {
   "cell_type": "code",
   "execution_count": 17,
   "id": "6ef854bb",
   "metadata": {},
   "outputs": [
    {
     "data": {
      "text/plain": [
       "'AliceBlue'"
      ]
     },
     "execution_count": 17,
     "metadata": {},
     "output_type": "execute_result"
    }
   ],
   "source": [
    "colour = (\"AliceBlue\", (240, 248, 255))\n",
    "name, (r, g, b) = colour\n",
    "name"
   ]
  },
  {
   "cell_type": "code",
   "execution_count": 34,
   "id": "471b4a28",
   "metadata": {
    "scrolled": true
   },
   "outputs": [
    {
     "name": "stdout",
     "output_type": "stream",
     "text": [
      "248\n"
     ]
    }
   ],
   "source": [
    "print(g)"
   ]
  },
  {
   "cell_type": "markdown",
   "id": "c3f2a6b3",
   "metadata": {},
   "source": [
    "### Multiple assignment"
   ]
  },
  {
   "cell_type": "code",
   "execution_count": 35,
   "id": "3c8e2341",
   "metadata": {},
   "outputs": [
    {
     "data": {
      "text/plain": [
       "'hey'"
      ]
     },
     "execution_count": 35,
     "metadata": {},
     "output_type": "execute_result"
    }
   ],
   "source": [
    "x = 3\n",
    "y = 'hey'\n",
    "x, y = y, x # Multiple assignment to swap varieties.\n",
    "x"
   ]
  },
  {
   "cell_type": "code",
   "execution_count": 36,
   "id": "b2fc1264",
   "metadata": {},
   "outputs": [
    {
     "data": {
      "text/plain": [
       "3"
      ]
     },
     "execution_count": 36,
     "metadata": {},
     "output_type": "execute_result"
    }
   ],
   "source": [
    "y"
   ]
  },
  {
   "cell_type": "code",
   "execution_count": 38,
   "id": "c0355c91",
   "metadata": {
    "scrolled": true
   },
   "outputs": [
    {
     "data": {
      "text/plain": [
       "124"
      ]
     },
     "execution_count": 38,
     "metadata": {},
     "output_type": "execute_result"
    }
   ],
   "source": [
    "rgb_values = (45, 124, 183)\n",
    "# Multiple assignment unpacks the tuple\n",
    "r, g, b = rgb_values\n",
    "g"
   ]
  },
  {
   "cell_type": "markdown",
   "id": "c120fc0c",
   "metadata": {},
   "source": [
    "#### Starred assignment"
   ]
  },
  {
   "cell_type": "code",
   "execution_count": 39,
   "id": "081c44ce",
   "metadata": {},
   "outputs": [
    {
     "name": "stdout",
     "output_type": "stream",
     "text": [
      "0\n"
     ]
    }
   ],
   "source": [
    "l = [0, 1, 2, 3, 4, 5]\n",
    "head, *body = l\n",
    "print(head)"
   ]
  },
  {
   "cell_type": "code",
   "execution_count": 40,
   "id": "1ff0089b",
   "metadata": {},
   "outputs": [
    {
     "name": "stdout",
     "output_type": "stream",
     "text": [
      "[1, 2, 3, 4, 5]\n"
     ]
    }
   ],
   "source": [
    "print(body)"
   ]
  },
  {
   "cell_type": "code",
   "execution_count": 43,
   "id": "09afefac",
   "metadata": {},
   "outputs": [
    {
     "name": "stdout",
     "output_type": "stream",
     "text": [
      "[0, 1, 2, 3, 4]\n"
     ]
    }
   ],
   "source": [
    "*body, tail = l\n",
    "print(body)"
   ]
  },
  {
   "cell_type": "code",
   "execution_count": 44,
   "id": "9929e5a7",
   "metadata": {},
   "outputs": [
    {
     "name": "stdout",
     "output_type": "stream",
     "text": [
      "5\n"
     ]
    }
   ],
   "source": [
    "print(tail)"
   ]
  },
  {
   "cell_type": "code",
   "execution_count": 45,
   "id": "34464090",
   "metadata": {
    "scrolled": true
   },
   "outputs": [
    {
     "name": "stdout",
     "output_type": "stream",
     "text": [
      "[1, 2, 3, 4]\n"
     ]
    }
   ],
   "source": [
    "head, *body, tail = l\n",
    "print(body)"
   ]
  },
  {
   "cell_type": "markdown",
   "id": "fe2cfade",
   "metadata": {},
   "source": [
    "### Examples in code"
   ]
  },
  {
   "cell_type": "code",
   "execution_count": 13,
   "id": "17603347",
   "metadata": {},
   "outputs": [],
   "source": [
    "# Increasing expressiveness\n",
    "\n",
    "def greyscale(colour_info):\n",
    "    return 0.2126*colour_info[1][0] + 0.7152*colour_info[1][1] + \\\n",
    "0.0722*colour_info[1][2]"
   ]
  },
  {
   "cell_type": "code",
   "execution_count": 14,
   "id": "2e2a7a1c",
   "metadata": {},
   "outputs": [
    {
     "name": "stdout",
     "output_type": "stream",
     "text": [
      "246.8046\n"
     ]
    }
   ],
   "source": [
    "print(greyscale(colour))"
   ]
  },
  {
   "cell_type": "code",
   "execution_count": 19,
   "id": "0355898a",
   "metadata": {},
   "outputs": [],
   "source": [
    "def greyscale(colour_info):\n",
    "    name, (r, g, b) = colour_info\n",
    "    return 0.2126*r + 0.7152*g + 0.0722*b"
   ]
  },
  {
   "cell_type": "code",
   "execution_count": 20,
   "id": "95e6ea31",
   "metadata": {
    "scrolled": true
   },
   "outputs": [
    {
     "name": "stdout",
     "output_type": "stream",
     "text": [
      "246.8046\n"
     ]
    }
   ],
   "source": [
    "print(greyscale(colour))"
   ]
  },
  {
   "cell_type": "code",
   "execution_count": 21,
   "id": "fc356864",
   "metadata": {},
   "outputs": [],
   "source": [
    "colours = [\n",
    "(\"AliceBlue\", (240, 248, 255)),\n",
    "(\"Aquamarine\", (127, 255, 212)),\n",
    "(\"DarkCyan\", (0, 139, 139)),\n",
    "]"
   ]
  },
  {
   "cell_type": "code",
   "execution_count": 24,
   "id": "9bb371be",
   "metadata": {},
   "outputs": [],
   "source": [
    "greyscales = [ round(0.2126*r + 0.7152*g + 0.0722*b, 3) for name, (r, g, b) in colours]"
   ]
  },
  {
   "cell_type": "code",
   "execution_count": 25,
   "id": "aa3f00be",
   "metadata": {
    "scrolled": true
   },
   "outputs": [
    {
     "name": "stdout",
     "output_type": "stream",
     "text": [
      "[246.805, 224.683, 109.449]\n"
     ]
    }
   ],
   "source": [
    "print(greyscales)"
   ]
  },
  {
   "cell_type": "markdown",
   "id": "0ea6677e",
   "metadata": {},
   "source": [
    "### Catching Bugs\n",
    "\n"
   ]
  },
  {
   "cell_type": "code",
   "execution_count": 27,
   "id": "52720961",
   "metadata": {},
   "outputs": [],
   "source": [
    "# Let us pretend for a second that my web scraper \n",
    "# isn’t working 100% well yet, and so it ended up \n",
    "# producing the following list, where it read \n",
    "# the RGB values of two colours into the same one:\n",
    "\n",
    "colours = [\n",
    "    ('AliceBlue', (240, 248, 255, 127, 255, 212)),\n",
    "    (\"DarkCyan\", (0, 139, 139)),\n",
    "]"
   ]
  },
  {
   "cell_type": "code",
   "execution_count": 33,
   "id": "eb7ce8c1",
   "metadata": {},
   "outputs": [],
   "source": [
    "# If we were to apply the original greyscale \n",
    "# function to colours[0], the function would just work:\n",
    "\n",
    "def greyscale(colour_info):\n",
    "    return 0.2126*colour_info[1][0] + 0.7152*colour_info[1][1] + \\\n",
    "0.0722*colour_info[1][2]"
   ]
  },
  {
   "cell_type": "code",
   "execution_count": 34,
   "id": "30ff66c5",
   "metadata": {},
   "outputs": [
    {
     "name": "stdout",
     "output_type": "stream",
     "text": [
      "246.8046\n"
     ]
    }
   ],
   "source": [
    "print(greyscale(colours[0]))"
   ]
  },
  {
   "cell_type": "code",
   "execution_count": 36,
   "id": "ecb5e70e",
   "metadata": {},
   "outputs": [],
   "source": [
    "def greyscale(colour_info):\n",
    "    name, (r, g, b) = colour_info\n",
    "    return 0.2126*r + 0.7152*g + 0.0722*b"
   ]
  },
  {
   "cell_type": "code",
   "execution_count": 38,
   "id": "51bc3d7e",
   "metadata": {
    "scrolled": true
   },
   "outputs": [
    {
     "ename": "ValueError",
     "evalue": "not enough values to unpack (expected 3, got 2)",
     "output_type": "error",
     "traceback": [
      "\u001b[1;31m---------------------------------------------------------------------------\u001b[0m",
      "\u001b[1;31mValueError\u001b[0m                                Traceback (most recent call last)",
      "\u001b[1;32mC:\\Users\\JUSTIN~1.O_K\\AppData\\Local\\Temp/ipykernel_22716/2870178853.py\u001b[0m in \u001b[0;36m<module>\u001b[1;34m\u001b[0m\n\u001b[0;32m      1\u001b[0m \u001b[1;31m# it cant unpack 6 elements it can only do for three\u001b[0m\u001b[1;33m\u001b[0m\u001b[1;33m\u001b[0m\u001b[0m\n\u001b[1;32m----> 2\u001b[1;33m \u001b[0mgreyscale\u001b[0m\u001b[1;33m(\u001b[0m\u001b[0mcolours\u001b[0m\u001b[1;33m)\u001b[0m\u001b[1;33m\u001b[0m\u001b[1;33m\u001b[0m\u001b[0m\n\u001b[0m",
      "\u001b[1;32mC:\\Users\\JUSTIN~1.O_K\\AppData\\Local\\Temp/ipykernel_22716/3400629774.py\u001b[0m in \u001b[0;36mgreyscale\u001b[1;34m(colour_info)\u001b[0m\n\u001b[0;32m      1\u001b[0m \u001b[1;32mdef\u001b[0m \u001b[0mgreyscale\u001b[0m\u001b[1;33m(\u001b[0m\u001b[0mcolour_info\u001b[0m\u001b[1;33m)\u001b[0m\u001b[1;33m:\u001b[0m\u001b[1;33m\u001b[0m\u001b[1;33m\u001b[0m\u001b[0m\n\u001b[1;32m----> 2\u001b[1;33m     \u001b[0mname\u001b[0m\u001b[1;33m,\u001b[0m \u001b[1;33m(\u001b[0m\u001b[0mr\u001b[0m\u001b[1;33m,\u001b[0m \u001b[0mg\u001b[0m\u001b[1;33m,\u001b[0m \u001b[0mb\u001b[0m\u001b[1;33m)\u001b[0m \u001b[1;33m=\u001b[0m \u001b[0mcolour_info\u001b[0m\u001b[1;33m\u001b[0m\u001b[1;33m\u001b[0m\u001b[0m\n\u001b[0m\u001b[0;32m      3\u001b[0m     \u001b[1;32mreturn\u001b[0m \u001b[1;36m0.2126\u001b[0m\u001b[1;33m*\u001b[0m\u001b[0mr\u001b[0m \u001b[1;33m+\u001b[0m \u001b[1;36m0.7152\u001b[0m\u001b[1;33m*\u001b[0m\u001b[0mg\u001b[0m \u001b[1;33m+\u001b[0m \u001b[1;36m0.0722\u001b[0m\u001b[1;33m*\u001b[0m\u001b[0mb\u001b[0m\u001b[1;33m\u001b[0m\u001b[1;33m\u001b[0m\u001b[0m\n",
      "\u001b[1;31mValueError\u001b[0m: not enough values to unpack (expected 3, got 2)"
     ]
    }
   ],
   "source": [
    "# it cant unpack 6 elements it can only do for three\n",
    "greyscale(colours)"
   ]
  },
  {
   "cell_type": "markdown",
   "id": "6daa5eb5",
   "metadata": {},
   "source": [
    "## Unpacking with starred assignments"
   ]
  },
  {
   "cell_type": "code",
   "execution_count": 40,
   "id": "9432056d",
   "metadata": {
    "scrolled": true
   },
   "outputs": [
    {
     "name": "stdout",
     "output_type": "stream",
     "text": [
      "1\n",
      "[2, 3, 4, 5]\n"
     ]
    }
   ],
   "source": [
    "l = [1, 2, 3, 4, 5]\n",
    "\n",
    "# head, tail = l[0]. l[1:]\n",
    "\n",
    "head, *tail = l\n",
    "print(head)\n",
    "print(tail)"
   ]
  },
  {
   "cell_type": "markdown",
   "id": "6ce8a615",
   "metadata": {},
   "source": [
    "### Starred Assignment"
   ]
  },
  {
   "cell_type": "code",
   "execution_count": 42,
   "id": "7c029c72",
   "metadata": {
    "scrolled": true
   },
   "outputs": [
    {
     "data": {
      "text/plain": [
       "1"
      ]
     },
     "execution_count": 42,
     "metadata": {},
     "output_type": "execute_result"
    }
   ],
   "source": [
    "l = [1, 2, 3, 4, 5]\n",
    "head, *tail = l\n",
    "head"
   ]
  },
  {
   "cell_type": "code",
   "execution_count": 43,
   "id": "a48dd2bc",
   "metadata": {},
   "outputs": [
    {
     "data": {
      "text/plain": [
       "[2, 3, 4, 5]"
      ]
     },
     "execution_count": 43,
     "metadata": {},
     "output_type": "execute_result"
    }
   ],
   "source": [
    "tail"
   ]
  },
  {
   "cell_type": "code",
   "execution_count": 44,
   "id": "27f293da",
   "metadata": {},
   "outputs": [],
   "source": [
    "string = 'Hello!'\n",
    "*start, last = string"
   ]
  },
  {
   "cell_type": "code",
   "execution_count": 45,
   "id": "4a02ec19",
   "metadata": {},
   "outputs": [
    {
     "data": {
      "text/plain": [
       "['H', 'e', 'l', 'l', 'o']"
      ]
     },
     "execution_count": 45,
     "metadata": {},
     "output_type": "execute_result"
    }
   ],
   "source": [
    "start"
   ]
  },
  {
   "cell_type": "code",
   "execution_count": 46,
   "id": "5d57e520",
   "metadata": {},
   "outputs": [
    {
     "data": {
      "text/plain": [
       "'!'"
      ]
     },
     "execution_count": 46,
     "metadata": {},
     "output_type": "execute_result"
    }
   ],
   "source": [
    "last"
   ]
  },
  {
   "cell_type": "code",
   "execution_count": 48,
   "id": "6154a8e1",
   "metadata": {},
   "outputs": [],
   "source": [
    "a, b, *c, d = range(5) # any iterable works "
   ]
  },
  {
   "cell_type": "code",
   "execution_count": 49,
   "id": "aa0efceb",
   "metadata": {},
   "outputs": [
    {
     "data": {
      "text/plain": [
       "0"
      ]
     },
     "execution_count": 49,
     "metadata": {},
     "output_type": "execute_result"
    }
   ],
   "source": [
    "a"
   ]
  },
  {
   "cell_type": "code",
   "execution_count": 50,
   "id": "5b79fd94",
   "metadata": {},
   "outputs": [
    {
     "data": {
      "text/plain": [
       "1"
      ]
     },
     "execution_count": 50,
     "metadata": {},
     "output_type": "execute_result"
    }
   ],
   "source": [
    "b"
   ]
  },
  {
   "cell_type": "code",
   "execution_count": 51,
   "id": "4e54a8b3",
   "metadata": {},
   "outputs": [
    {
     "data": {
      "text/plain": [
       "[2, 3]"
      ]
     },
     "execution_count": 51,
     "metadata": {},
     "output_type": "execute_result"
    }
   ],
   "source": [
    "c\n"
   ]
  },
  {
   "cell_type": "code",
   "execution_count": 52,
   "id": "751670c2",
   "metadata": {
    "scrolled": true
   },
   "outputs": [
    {
     "data": {
      "text/plain": [
       "4"
      ]
     },
     "execution_count": 52,
     "metadata": {},
     "output_type": "execute_result"
    }
   ],
   "source": [
    "d"
   ]
  },
  {
   "cell_type": "code",
   "execution_count": 53,
   "id": "288b6727",
   "metadata": {},
   "outputs": [],
   "source": [
    "a, *b = [1]"
   ]
  },
  {
   "cell_type": "code",
   "execution_count": 54,
   "id": "bab1ec93",
   "metadata": {},
   "outputs": [
    {
     "data": {
      "text/plain": [
       "1"
      ]
     },
     "execution_count": 54,
     "metadata": {},
     "output_type": "execute_result"
    }
   ],
   "source": [
    "a"
   ]
  },
  {
   "cell_type": "code",
   "execution_count": 55,
   "id": "11024415",
   "metadata": {},
   "outputs": [
    {
     "data": {
      "text/plain": [
       "[]"
      ]
     },
     "execution_count": 55,
     "metadata": {},
     "output_type": "execute_result"
    }
   ],
   "source": [
    "b\n"
   ]
  },
  {
   "cell_type": "code",
   "execution_count": 56,
   "id": "5d70f06a",
   "metadata": {},
   "outputs": [
    {
     "ename": "ValueError",
     "evalue": "not enough values to unpack (expected at least 1, got 0)",
     "output_type": "error",
     "traceback": [
      "\u001b[1;31m---------------------------------------------------------------------------\u001b[0m",
      "\u001b[1;31mValueError\u001b[0m                                Traceback (most recent call last)",
      "\u001b[1;32mC:\\Users\\JUSTIN~1.O_K\\AppData\\Local\\Temp/ipykernel_22716/805845120.py\u001b[0m in \u001b[0;36m<module>\u001b[1;34m\u001b[0m\n\u001b[1;32m----> 1\u001b[1;33m \u001b[0ma\u001b[0m\u001b[1;33m,\u001b[0m \u001b[1;33m*\u001b[0m\u001b[0mb\u001b[0m \u001b[1;33m=\u001b[0m \u001b[1;33m[\u001b[0m\u001b[1;33m]\u001b[0m\u001b[1;33m\u001b[0m\u001b[1;33m\u001b[0m\u001b[0m\n\u001b[0m",
      "\u001b[1;31mValueError\u001b[0m: not enough values to unpack (expected at least 1, got 0)"
     ]
    }
   ],
   "source": [
    "a, *b = []"
   ]
  },
  {
   "cell_type": "markdown",
   "id": "8d97bb15",
   "metadata": {},
   "source": [
    "### Examples in code"
   ]
  },
  {
   "cell_type": "code",
   "execution_count": 58,
   "id": "0407e790",
   "metadata": {},
   "outputs": [],
   "source": [
    "# Imagine you wanted to implement a function akin to\n",
    "# the reduce function from functools (you can reads\n",
    "# its documentation here).\n",
    "# Here is how an implementation might look like,\n",
    "# using slices:\n",
    "\n",
    "def reduce(function, list_):\n",
    "    \"\"\"Reduce the elements of the list by the binary function.\"\"\"\n",
    "    \n",
    "    if not list_: \n",
    "        raise TypeError('Cannot reduce empty list.')\n",
    "    value = list_[0]\n",
    "    list = list_[1:]\n",
    "    while list_:\n",
    "        value = function(value, list_[0])\n",
    "        list_ = list_[1:]\n",
    "    return value\n",
    "    "
   ]
  },
  {
   "cell_type": "code",
   "execution_count": 60,
   "id": "b0986dcd",
   "metadata": {},
   "outputs": [],
   "source": [
    "def reduce(function, list_):\n",
    "    \"\"\"Reduce the elements of the list by the binary function.\"\"\"\n",
    "    if not list_:\n",
    "        raise TypeError(\"Cannot reduce empty list.\")\n",
    "    value, *list_ = list_\n",
    "    while list_:\n",
    "        val, *list_ = list_\n",
    "        value = function(value, val)\n",
    "    return value\n",
    "        \n",
    "    \n",
    "    "
   ]
  },
  {
   "cell_type": "markdown",
   "id": "6f60f122",
   "metadata": {},
   "source": [
    "### Credit card Check digit"
   ]
  },
  {
   "cell_type": "code",
   "execution_count": 63,
   "id": "d7440d16",
   "metadata": {},
   "outputs": [],
   "source": [
    "# The Luhn Algorithm is used to compute a check digit\n",
    "# for things like credit card numbers or bank accounts.\n",
    "# Let’s implement a function that verifies if the\n",
    "# check digit is correct, according to \n",
    "# the Luhn Algorithm, and using starred assignment\n",
    "# to separate the check digit from all the other digits:\n",
    "\n",
    "def verify_check_digit(digits):\n",
    "    \"\"\"Use the luhn algorithm to verify the check digit.\"\"\"\n",
    "    *digits, check_digit = digits\n",
    "    weight = 2\n",
    "    acc = 0\n",
    "    for digit in reversed(digits):\n",
    "        value = digit * weight\n",
    "        acc += (value // 10) + (value % 10)\n",
    "        weight = 3 - weight # 2 -> 1 and 1 -> 2\n",
    "    return (9 * acc % 10) == check_digit"
   ]
  },
  {
   "cell_type": "code",
   "execution_count": 64,
   "id": "562ed6b7",
   "metadata": {
    "scrolled": true
   },
   "outputs": [
    {
     "name": "stdout",
     "output_type": "stream",
     "text": [
      "True\n"
     ]
    }
   ],
   "source": [
    "## Example from Wikipedia.\n",
    "print(verify_check_digit([7, 9, 9, 2, 7, 3, 9, 8, 7, 1, 3]))  # True "
   ]
  },
  {
   "cell_type": "raw",
   "id": "8309c0c2",
   "metadata": {},
   "source": [
    "Maybe it is not obvious to you what the function does just by looking at it, but it should be very clear that\n",
    "the line *digits, check_digit = digits splits the list digits into the items in the beginning and the final\n",
    "digit. How would you implement the function above, using slices and indexing? An example could be like so:"
   ]
  },
  {
   "cell_type": "code",
   "execution_count": 79,
   "id": "ad79ef67",
   "metadata": {},
   "outputs": [],
   "source": [
    "def verify_check_digit(digits):\n",
    "    \"\"\"Use the Luhn algorithm to verify the check digit.\"\"\"\n",
    "    \n",
    "    \n",
    "    weight = 2\n",
    "    acc = 0\n",
    "    for digit in reversed(digits[:-1]):\n",
    "        value = digit * weight\n",
    "        acc += (value // 10) + (value % 10)\n",
    "        weight = 3 - weight # 2 -> 1 and 1 -> 2\n",
    "    return (9 * acc % 10) == digits[-1]"
   ]
  },
  {
   "cell_type": "code",
   "execution_count": 80,
   "id": "4f905e41",
   "metadata": {
    "scrolled": true
   },
   "outputs": [
    {
     "name": "stdout",
     "output_type": "stream",
     "text": [
      "True\n"
     ]
    }
   ],
   "source": [
    "## Example from wikipedia\n",
    "print(verify_check_digit([7, 9, 9, 2, 7, 3, 9, 8, 7, 1, 3])) # True"
   ]
  },
  {
   "cell_type": "raw",
   "id": "33a16985",
   "metadata": {},
   "source": [
    "This also works, but looks a bit more confusing. Notice we have two similar indexing operations, but one is\n",
    "actually a slice while the other is a proper indexing."
   ]
  },
  {
   "cell_type": "markdown",
   "id": "dd2ed791",
   "metadata": {},
   "source": [
    "## EAFP AND LBYL coding styles"
   ]
  },
  {
   "cell_type": "raw",
   "id": "b5b41cab",
   "metadata": {},
   "source": [
    "“EAFP” is an acronym that stands for “Easier to Ask for Forgiveness than Permission”, a coding practice that\n",
    "is more or less the opposite of the “LBYL”, which stands for “Look Before You Leap”. LBYL means you first check if a given operation can be made successfully, and then proceed to do it. For example, if you want to ask the user for a number whose default value will be 1, you can use the code"
   ]
  },
  {
   "cell_type": "code",
   "execution_count": 4,
   "id": "2e98706c",
   "metadata": {},
   "outputs": [
    {
     "name": "stdout",
     "output_type": "stream",
     "text": [
      "Type a positive integer (defaults to 1):\n",
      " >>-1\n"
     ]
    }
   ],
   "source": [
    "print(\"Type a positive integer (defaults to 1):\")\n",
    "s = input(\" >>\")\n",
    "if s.isnumeric():\n",
    "    n = int(s)\n",
    "else:\n",
    "    n = 1"
   ]
  },
  {
   "cell_type": "code",
   "execution_count": 81,
   "id": "7f323aee",
   "metadata": {
    "scrolled": true
   },
   "outputs": [
    {
     "name": "stdout",
     "output_type": "stream",
     "text": [
      "Return True if the string is a numeric string, False otherwise.\n",
      "\n",
      "A string is numeric if all characters in the string are numeric and there is at\n",
      "least one character in the string.\n"
     ]
    }
   ],
   "source": [
    "print(str.isnumeric.__doc__)"
   ]
  },
  {
   "cell_type": "code",
   "execution_count": 6,
   "id": "351a3369",
   "metadata": {},
   "outputs": [
    {
     "name": "stdout",
     "output_type": "stream",
     "text": [
      "Type a positive integer (defaults to 1):\n",
      " >> d\n"
     ]
    }
   ],
   "source": [
    "print(\"Type a positive integer (defaults to 1):\")\n",
    "s = input(' >> ')\n",
    "try:\n",
    "    n = int(s)\n",
    "except ValueError:\n",
    "    n = 1"
   ]
  },
  {
   "cell_type": "code",
   "execution_count": 86,
   "id": "185ef737",
   "metadata": {},
   "outputs": [
    {
     "data": {
      "text/plain": [
       "345"
      ]
     },
     "execution_count": 86,
     "metadata": {},
     "output_type": "execute_result"
    }
   ],
   "source": [
    "int('345')"
   ]
  },
  {
   "cell_type": "code",
   "execution_count": 87,
   "id": "ce517b8a",
   "metadata": {},
   "outputs": [
    {
     "data": {
      "text/plain": [
       "23.5"
      ]
     },
     "execution_count": 87,
     "metadata": {},
     "output_type": "execute_result"
    }
   ],
   "source": [
    "float('23.5')"
   ]
  },
  {
   "cell_type": "code",
   "execution_count": 88,
   "id": "7169408c",
   "metadata": {},
   "outputs": [
    {
     "ename": "ValueError",
     "evalue": "invalid literal for int() with base 10: '345.4'",
     "output_type": "error",
     "traceback": [
      "\u001b[1;31m---------------------------------------------------------------------------\u001b[0m",
      "\u001b[1;31mValueError\u001b[0m                                Traceback (most recent call last)",
      "\u001b[1;32mC:\\Users\\JUSTIN~1.O_K\\AppData\\Local\\Temp/ipykernel_22716/3998394054.py\u001b[0m in \u001b[0;36m<module>\u001b[1;34m\u001b[0m\n\u001b[1;32m----> 1\u001b[1;33m \u001b[0mint\u001b[0m\u001b[1;33m(\u001b[0m\u001b[1;34m'345.4'\u001b[0m\u001b[1;33m)\u001b[0m\u001b[1;33m\u001b[0m\u001b[1;33m\u001b[0m\u001b[0m\n\u001b[0m",
      "\u001b[1;31mValueError\u001b[0m: invalid literal for int() with base 10: '345.4'"
     ]
    }
   ],
   "source": [
    "int('345.4')"
   ]
  },
  {
   "cell_type": "code",
   "execution_count": 89,
   "id": "0ff0de39",
   "metadata": {},
   "outputs": [
    {
     "ename": "ValueError",
     "evalue": "invalid literal for int() with base 10: 'abcd'",
     "output_type": "error",
     "traceback": [
      "\u001b[1;31m---------------------------------------------------------------------------\u001b[0m",
      "\u001b[1;31mValueError\u001b[0m                                Traceback (most recent call last)",
      "\u001b[1;32mC:\\Users\\JUSTIN~1.O_K\\AppData\\Local\\Temp/ipykernel_22716/3100266108.py\u001b[0m in \u001b[0;36m<module>\u001b[1;34m\u001b[0m\n\u001b[1;32m----> 1\u001b[1;33m \u001b[0mint\u001b[0m\u001b[1;33m(\u001b[0m\u001b[1;34m'abcd'\u001b[0m\u001b[1;33m)\u001b[0m\u001b[1;33m\u001b[0m\u001b[1;33m\u001b[0m\u001b[0m\n\u001b[0m",
      "\u001b[1;31mValueError\u001b[0m: invalid literal for int() with base 10: 'abcd'"
     ]
    }
   ],
   "source": [
    "int('abcd')"
   ]
  },
  {
   "cell_type": "markdown",
   "id": "6184780f",
   "metadata": {},
   "source": [
    "## EAFP instead of LBYL?"
   ]
  },
  {
   "cell_type": "code",
   "execution_count": 90,
   "id": "85082fd1",
   "metadata": {},
   "outputs": [],
   "source": [
    "# Writing code that follows the EAFP style can be\n",
    "# advantageous in several situations, and I will\n",
    "# present them now.\n"
   ]
  },
  {
   "cell_type": "markdown",
   "id": "eef31578",
   "metadata": {},
   "source": [
    "### Avoid redundancy"
   ]
  },
  {
   "cell_type": "markdown",
   "id": "c1157d78",
   "metadata": {},
   "source": [
    "Sometimes, coding with EAFP in mind allows you to avoid redundancy in your code. Imagine you have a dictionary from which you want to extract a value associated with a key, but that key might not exist. With LBYL, you would do something like:"
   ]
  },
  {
   "cell_type": "code",
   "execution_count": 95,
   "id": "784d208d",
   "metadata": {},
   "outputs": [
    {
     "name": "stdout",
     "output_type": "stream",
     "text": [
      "What key do you want to access?\n",
      " >> s\n",
      "Cannot find key 's'\n"
     ]
    }
   ],
   "source": [
    "d = {'a': 1, \"b\": 42}\n",
    "print(\"What key do you want to access?\")\n",
    "key = input(\" >> \")\n",
    "if key in d:\n",
    "    print(d[key])\n",
    "else:\n",
    "    print(f\"Cannot find key '{key}'\")"
   ]
  },
  {
   "cell_type": "code",
   "execution_count": 96,
   "id": "899a87b5",
   "metadata": {},
   "outputs": [
    {
     "name": "stdout",
     "output_type": "stream",
     "text": [
      "What key do you want to access?\n",
      " >> v\n",
      "Cannot find key \"v\"\n"
     ]
    }
   ],
   "source": [
    "# With EAFP, you can open the box and immediately \n",
    "# empty it if you find something inside:\n",
    "d = {'a': 1, 'b': 42}\n",
    "print(\"What key do you want to access?\")\n",
    "key = input(\" >> \")\n",
    "try:\n",
    "    print(d[key])\n",
    "except KeyError:\n",
    "    print(f'Cannot find key \"{key}\"')"
   ]
  },
  {
   "cell_type": "code",
   "execution_count": 97,
   "id": "d99d2b3c",
   "metadata": {},
   "outputs": [
    {
     "name": "stdout",
     "output_type": "stream",
     "text": [
      "What key do you want to access?\n",
      " >> s\n",
      "None\n"
     ]
    }
   ],
   "source": [
    "d = {'a': 1, 'b': 42}\n",
    "print(\"What key do you want to access?\")\n",
    "key = input(\" >> \")\n",
    "print(d.get(key, None))"
   ]
  },
  {
   "cell_type": "markdown",
   "id": "f3f78af9",
   "metadata": {},
   "source": [
    "### EAFP can be faster"
   ]
  },
  {
   "cell_type": "code",
   "execution_count": 100,
   "id": "12eb72e6",
   "metadata": {},
   "outputs": [],
   "source": [
    "# an example, let’s go over the code from the example \n",
    "# image above, using the timeit module to see what\n",
    "# option is faster when the input can be converted\n",
    "# to an integer:\n",
    "\n",
    "import timeit\n",
    "eafp = \"\"\"s = \"345\"\n",
    "try:\n",
    "     n = int(s)\n",
    "except ValueError:\n",
    "     n = 0\"\"\"\n"
   ]
  },
  {
   "cell_type": "code",
   "execution_count": 101,
   "id": "2e114be5",
   "metadata": {
    "scrolled": true
   },
   "outputs": [
    {
     "data": {
      "text/plain": [
       "0.439591099973768"
      ]
     },
     "execution_count": 101,
     "metadata": {},
     "output_type": "execute_result"
    }
   ],
   "source": [
    "timeit.timeit(eafp)"
   ]
  },
  {
   "cell_type": "raw",
   "id": "7f909ab4",
   "metadata": {},
   "source": [
    "Here we define s as an integer immediately so that the timing does not have to take into account the time it\n",
    "takes for me to type an integer. Also, the timeit function is running the code a bunch of times and I don’t\n",
    "want to have to type one million integers in the console."
   ]
  },
  {
   "cell_type": "code",
   "execution_count": 102,
   "id": "74eb892b",
   "metadata": {},
   "outputs": [],
   "source": [
    "# Now, compare it with the LBYL approach:\n",
    "lbyl = \"\"\"s = \"345\"\n",
    "if s.isnumeric():\n",
    "      n = int(s)\n",
    "else: \n",
    "      n =0\"\"\""
   ]
  },
  {
   "cell_type": "code",
   "execution_count": 103,
   "id": "b9f97b1a",
   "metadata": {},
   "outputs": [
    {
     "data": {
      "text/plain": [
       "0.4830136999953538"
      ]
     },
     "execution_count": 103,
     "metadata": {},
     "output_type": "execute_result"
    }
   ],
   "source": [
    "timeit.timeit(lbyl)"
   ]
  },
  {
   "cell_type": "markdown",
   "id": "0e7ab77f",
   "metadata": {},
   "source": [
    "### LBYL may still fail"
   ]
  },
  {
   "cell_type": "code",
   "execution_count": 104,
   "id": "4a90dffa",
   "metadata": {},
   "outputs": [
    {
     "name": "stdout",
     "output_type": "stream",
     "text": [
      "What file should I read?\n",
      " >> yrt\n",
      "Woops, the file does not exit!\n"
     ]
    }
   ],
   "source": [
    "# For example, imagine you have a script that is\n",
    "# reading some files. You can only read a file that \n",
    "# exists, obviously, so an LBYL approach could entail \n",
    "# writing code like\n",
    "import pathlib\n",
    "\n",
    "print(\"What file should I read?\")\n",
    "filepath = input(' >> ')\n",
    "if pathlib.Path(filepath).exists():\n",
    "    with open(filepath, 'r') as f:\n",
    "        contents = f.read()\n",
    "      # Do something with the contents \n",
    "else: \n",
    "    print(\"Woops, the file does not exit!\")"
   ]
  },
  {
   "cell_type": "raw",
   "id": "7ac81d6f",
   "metadata": {},
   "source": [
    "If your script is in a computer that can be accessed by several users, or if there are other scripts working with\n",
    "the file system, your if statement might evaluate to True because the file was found, but then an external\n",
    "agent might delete the file and your with statement fails, raising an error and breaking your code. If you\n",
    "are writing critical code, this possibility has to be taken into account. Or if the code your executing after the check takes a long time to run."
   ]
  },
  {
   "cell_type": "code",
   "execution_count": 105,
   "id": "f7c7167e",
   "metadata": {},
   "outputs": [
    {
     "name": "stdout",
     "output_type": "stream",
     "text": [
      "What file should i read?\n",
      " >> t\n",
      "Woops, the file does not exist!\n"
     ]
    }
   ],
   "source": [
    "# If you use an EAFP approach, the code either \n",
    "# reads the file or doesn’t, but both cases are \n",
    "# covered:\n",
    "\n",
    "print(\"What file should i read?\")\n",
    "filepath = input(\" >> \")\n",
    "try:\n",
    "    with open(filepath, 'r') as f:\n",
    "        contents = f.read()\n",
    "except FileNotFoundError:\n",
    "    print(\"Woops, the file does not exist!\")\n",
    "else:\n",
    "    # Do something with the contents.\n",
    "    pass"
   ]
  },
  {
   "cell_type": "raw",
   "id": "34d21383",
   "metadata": {},
   "source": [
    "The else in the try block above ensures you only run the code that processes the contents if you are able\n",
    "to read the file. (I’ll write a Pydon’t about this, don’t worry!)"
   ]
  },
  {
   "cell_type": "markdown",
   "id": "2bc4a077",
   "metadata": {},
   "source": [
    "### Catch many types of fails"
   ]
  },
  {
   "cell_type": "code",
   "execution_count": 106,
   "id": "b58cf68f",
   "metadata": {},
   "outputs": [],
   "source": [
    "def get_inverse(num_str):\n",
    "    return 1 / int(num_str)"
   ]
  },
  {
   "cell_type": "code",
   "execution_count": 113,
   "id": "2e8c168f",
   "metadata": {},
   "outputs": [
    {
     "name": "stdout",
     "output_type": "stream",
     "text": [
      "Type an integer:\n",
      " >> 0\n",
      "0 has no inverse\n"
     ]
    }
   ],
   "source": [
    "# You want to use that function in your code after \n",
    "# asking for user input, but you notice the user might \n",
    "# type something that is not an integer, or the user\n",
    "# might type a 0, which then gives you a ZeroDivisionError.\n",
    "# With an EAFP approach, you write:\n",
    "\n",
    "print(\"Type an integer:\")\n",
    "s = input(' >> ')\n",
    "try:\n",
    "    print(get_inverse(s))\n",
    "except ValueError:\n",
    "    print(\"I asked for an integer\")\n",
    "except ZeroDivisionError:\n",
    "    print(\"0 has no inverse\")"
   ]
  },
  {
   "cell_type": "code",
   "execution_count": 115,
   "id": "cbfe4950",
   "metadata": {},
   "outputs": [
    {
     "name": "stdout",
     "output_type": "stream",
     "text": [
      "Type an integer:\n",
      " >> d\n",
      "I asked for an integer\n"
     ]
    }
   ],
   "source": [
    "## How would you do this with LBYL? maybe\n",
    "\n",
    "print('Type an integer:')\n",
    "s = input(' >> ')\n",
    "if s.isnumeric() and s != '0':\n",
    "    print(get_inverse(s))\n",
    "elif not s.isnumeric():\n",
    "    print(\"I asked for an integer\")\n",
    "else:\n",
    "    print('0 has no inverse!')"
   ]
  },
  {
   "cell_type": "raw",
   "id": "86148169",
   "metadata": {},
   "source": [
    "But now you are using the function isnumeric twice. And isnumeric doesn’t even work for negative integers.\n",
    "And what if the user types something like \" 3\"? isnumeric fails, but this is still an integer that int can\n",
    "convert! Or what if the user types \"000\"? This still evaluates to 0… I hope you get my point by now."
   ]
  }
 ],
 "metadata": {
  "kernelspec": {
   "display_name": "Python 3 (ipykernel)",
   "language": "python",
   "name": "python3"
  },
  "language_info": {
   "codemirror_mode": {
    "name": "ipython",
    "version": 3
   },
   "file_extension": ".py",
   "mimetype": "text/x-python",
   "name": "python",
   "nbconvert_exporter": "python",
   "pygments_lexer": "ipython3",
   "version": "3.9.7"
  }
 },
 "nbformat": 4,
 "nbformat_minor": 5
}
