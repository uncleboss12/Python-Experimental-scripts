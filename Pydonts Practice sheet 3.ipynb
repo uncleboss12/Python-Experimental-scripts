{
 "cells": [
  {
   "cell_type": "markdown",
   "id": "515be74c",
   "metadata": {},
   "source": [
    "### Introduction"
   ]
  },
  {
   "cell_type": "raw",
   "id": "ded0131e",
   "metadata": {},
   "source": [
    "In this article you will\n",
    "• see what zip does;\n",
    "• get to know a new feature of zip that is coming in Python 3.10;\n",
    "• learn how to use zip to create dictionaries; and\n",
    "• see some nice usage examples of zip."
   ]
  },
  {
   "cell_type": "markdown",
   "id": "0f20a686",
   "metadata": {},
   "source": [
    "## How zip works"
   ]
  },
  {
   "cell_type": "code",
   "execution_count": 1,
   "id": "e397e0c2",
   "metadata": {
    "scrolled": true
   },
   "outputs": [
    {
     "ename": "NameError",
     "evalue": "name 'it' is not defined",
     "output_type": "error",
     "traceback": [
      "\u001b[1;31m---------------------------------------------------------------------------\u001b[0m",
      "\u001b[1;31mNameError\u001b[0m                                 Traceback (most recent call last)",
      "\u001b[1;32mC:\\Users\\JUSTIN~1.O_K\\AppData\\Local\\Temp/ipykernel_15752/1734546665.py\u001b[0m in \u001b[0;36m<module>\u001b[1;34m\u001b[0m\n\u001b[1;32m----> 1\u001b[1;33m \u001b[1;32mfor\u001b[0m \u001b[0melem\u001b[0m \u001b[1;32min\u001b[0m \u001b[0mit\u001b[0m\u001b[1;33m:\u001b[0m\u001b[1;33m\u001b[0m\u001b[1;33m\u001b[0m\u001b[0m\n\u001b[0m\u001b[0;32m      2\u001b[0m     \u001b[1;31m# Do something in elem\u001b[0m\u001b[1;33m\u001b[0m\u001b[1;33m\u001b[0m\u001b[0m\n\u001b[0;32m      3\u001b[0m     \u001b[0mprint\u001b[0m\u001b[1;33m(\u001b[0m\u001b[0melem\u001b[0m\u001b[1;33m)\u001b[0m\u001b[1;33m\u001b[0m\u001b[1;33m\u001b[0m\u001b[0m\n",
      "\u001b[1;31mNameError\u001b[0m: name 'it' is not defined"
     ]
    }
   ],
   "source": [
    "for elem in it:\n",
    "    # Do something in elem\n",
    "    print(elem)"
   ]
  },
  {
   "cell_type": "raw",
   "id": "25ab6a3e",
   "metadata": {},
   "source": [
    "An “iterator” is something that can be traversed linearly, of which a list is the simplest example. Another very common iterator used in Python’s for loops is a range:"
   ]
  },
  {
   "cell_type": "code",
   "execution_count": 2,
   "id": "15e4bacc",
   "metadata": {},
   "outputs": [
    {
     "name": "stdout",
     "output_type": "stream",
     "text": [
      "0\n",
      "1\n",
      "4\n",
      "9\n",
      "16\n",
      "25\n",
      "36\n",
      "49\n",
      "64\n",
      "81\n"
     ]
    }
   ],
   "source": [
    "for n in range(10):\n",
    "    print(n**2)"
   ]
  },
  {
   "cell_type": "code",
   "execution_count": 6,
   "id": "9c0b4917",
   "metadata": {
    "scrolled": false
   },
   "outputs": [
    {
     "name": "stdout",
     "output_type": "stream",
     "text": [
      "'Anna Smith'\n",
      "'Bob Doe'\n",
      "'Charles Evans'\n"
     ]
    }
   ],
   "source": [
    "firsts = [\"Anna\", \"Bob\", \"Charles\"]\n",
    "lasts = [\"Smith\", \"Doe\", \"Evans\"]\n",
    "for i in range(len(firsts)):\n",
    "    print(f\"'{firsts[i]} {lasts[i]}'\")"
   ]
  },
  {
   "cell_type": "code",
   "execution_count": 9,
   "id": "fe9c7b04",
   "metadata": {},
   "outputs": [
    {
     "data": {
      "text/plain": [
       "'Charles'"
      ]
     },
     "execution_count": 9,
     "metadata": {},
     "output_type": "execute_result"
    }
   ],
   "source": [
    "firsts[i]"
   ]
  },
  {
   "cell_type": "code",
   "execution_count": 10,
   "id": "e394ef6e",
   "metadata": {
    "scrolled": true
   },
   "outputs": [
    {
     "name": "stdout",
     "output_type": "stream",
     "text": [
      "'Anna Smith'\n",
      "'Bob Doe'\n",
      "'Charles Evans'\n"
     ]
    }
   ],
   "source": [
    "firsts = [\"Anna\", \"Bob\", \"Charles\"]\n",
    "lasts = [\"Smith\", \"Doe\", \"Evans\"]\n",
    "for first, last in zip(firsts, lasts):\n",
    "    print(f\"'{first} {last}'\")"
   ]
  },
  {
   "cell_type": "markdown",
   "id": "707ea95e",
   "metadata": {},
   "source": [
    "### Zip is lazy"
   ]
  },
  {
   "cell_type": "code",
   "execution_count": 11,
   "id": "f370940f",
   "metadata": {},
   "outputs": [],
   "source": [
    "firsts = [\"Anna\", \"Bob\", \"Charles\"]\n",
    "lasts = ['Smith', 'Doe', 'Evans', 'Rivers']\n",
    "z = zip(firsts, lasts)"
   ]
  },
  {
   "cell_type": "code",
   "execution_count": 12,
   "id": "4a020e3c",
   "metadata": {},
   "outputs": [
    {
     "data": {
      "text/plain": [
       "[('Anna', 'Smith'), ('Bob', 'Doe'), ('Charles', 'Evans')]"
      ]
     },
     "execution_count": 12,
     "metadata": {},
     "output_type": "execute_result"
    }
   ],
   "source": [
    "list(z)"
   ]
  },
  {
   "cell_type": "code",
   "execution_count": 13,
   "id": "e4664a9b",
   "metadata": {},
   "outputs": [
    {
     "ename": "TypeError",
     "evalue": "object of type 'zip' has no len()",
     "output_type": "error",
     "traceback": [
      "\u001b[1;31m---------------------------------------------------------------------------\u001b[0m",
      "\u001b[1;31mTypeError\u001b[0m                                 Traceback (most recent call last)",
      "\u001b[1;32mC:\\Users\\JUSTIN~1.O_K\\AppData\\Local\\Temp/ipykernel_15752/1827889147.py\u001b[0m in \u001b[0;36m<module>\u001b[1;34m\u001b[0m\n\u001b[1;32m----> 1\u001b[1;33m \u001b[0mlen\u001b[0m\u001b[1;33m(\u001b[0m\u001b[0mz\u001b[0m\u001b[1;33m)\u001b[0m\u001b[1;33m\u001b[0m\u001b[1;33m\u001b[0m\u001b[0m\n\u001b[0m",
      "\u001b[1;31mTypeError\u001b[0m: object of type 'zip' has no len()"
     ]
    }
   ],
   "source": [
    "len(z)"
   ]
  },
  {
   "cell_type": "markdown",
   "id": "9d8e2da1",
   "metadata": {},
   "source": [
    "### Three is a crowd"
   ]
  },
  {
   "cell_type": "code",
   "execution_count": 14,
   "id": "aa72ac83",
   "metadata": {
    "scrolled": true
   },
   "outputs": [
    {
     "name": "stdout",
     "output_type": "stream",
     "text": [
      "('Anna', 'Z.', 'Smith')\n",
      "('Bob', 'A.', 'Doe')\n",
      "('Charles', 'G.', 'Evans')\n"
     ]
    }
   ],
   "source": [
    "# We have seen zip with two arguments, but zip can\n",
    "# take an arbitrary number of iterators and will\n",
    "# produce a tuple of the appropriate size:\n",
    "firsts = [\"Anna\", \"Bob\", \"Charles\"]\n",
    "middles = [\"Z.\", \"A.\", \"G.\"]\n",
    "lasts = [\"Smith\", \"Doe\", \"Evans\"]\n",
    "for z in zip(firsts, middles, lasts):\n",
    "    print(z)\n"
   ]
  },
  {
   "cell_type": "code",
   "execution_count": 15,
   "id": "ced9249d",
   "metadata": {
    "scrolled": true
   },
   "outputs": [
    {
     "name": "stdout",
     "output_type": "stream",
     "text": [
      "('Dr', 'Anna', 'Z.', 'Smith')\n",
      "('Mr', 'Bob', 'A.', 'Doe')\n",
      "('Sir', 'Charles', 'G.', 'Evans')\n"
     ]
    }
   ],
   "source": [
    "prefixes = ['Dr', 'Mr', 'Sir']\n",
    "for z in zip(prefixes, firsts, middles, lasts):\n",
    "    print(z)"
   ]
  },
  {
   "cell_type": "markdown",
   "id": "3146aa83",
   "metadata": {},
   "source": [
    "### Mismatched lengths"
   ]
  },
  {
   "cell_type": "code",
   "execution_count": null,
   "id": "f25a91d1",
   "metadata": {},
   "outputs": [],
   "source": [
    "zip will always return a tuple with as many elements as the arguments it received, so what happens if one\n",
    "of the iterators is shorter than the others?"
   ]
  },
  {
   "cell_type": "raw",
   "id": "496dc476",
   "metadata": {},
   "source": [
    "If zip’s arguments have unequal lengths, then zip will keep going until it exhausts one of the iterators. As\n",
    "soon as one iterator ends, zip stops producing tuples:"
   ]
  },
  {
   "cell_type": "code",
   "execution_count": 17,
   "id": "36acd2a4",
   "metadata": {
    "scrolled": true
   },
   "outputs": [
    {
     "name": "stdout",
     "output_type": "stream",
     "text": [
      "('Anna', 'Smith')\n",
      "('Bob', 'Doe')\n",
      "('Charles', 'Evans')\n"
     ]
    }
   ],
   "source": [
    "firsts = [\"Anna\", \"Bob\", \"Charles\"]\n",
    "lasts = [\"Smith\", \"Doe\", \"Evans\", \"Rivers\"]\n",
    "for z in zip(firsts, lasts):\n",
    "    print(z)"
   ]
  },
  {
   "cell_type": "raw",
   "id": "0ab95df0",
   "metadata": {},
   "source": [
    "Starting with Python 3.10, zip will be able to receive a keyword argument named strict that you can use to\n",
    "tell zip to error if the lengths of the iterators do not match:"
   ]
  },
  {
   "cell_type": "code",
   "execution_count": 5,
   "id": "879bc7bb",
   "metadata": {},
   "outputs": [
    {
     "ename": "TypeError",
     "evalue": "zip() takes no keyword arguments",
     "output_type": "error",
     "traceback": [
      "\u001b[1;31m---------------------------------------------------------------------------\u001b[0m",
      "\u001b[1;31mTypeError\u001b[0m                                 Traceback (most recent call last)",
      "\u001b[1;32mC:\\Users\\JUSTIN~1.O_K\\AppData\\Local\\Temp/ipykernel_2184/118164244.py\u001b[0m in \u001b[0;36m<module>\u001b[1;34m\u001b[0m\n\u001b[0;32m      1\u001b[0m \u001b[0mfirsts\u001b[0m \u001b[1;33m=\u001b[0m \u001b[1;33m[\u001b[0m\u001b[1;34m\"Anna\"\u001b[0m\u001b[1;33m,\u001b[0m \u001b[1;34m\"Bob\"\u001b[0m\u001b[1;33m,\u001b[0m \u001b[1;34m\"Charles\"\u001b[0m\u001b[1;33m]\u001b[0m\u001b[1;33m\u001b[0m\u001b[1;33m\u001b[0m\u001b[0m\n\u001b[0;32m      2\u001b[0m \u001b[0mlasts\u001b[0m \u001b[1;33m=\u001b[0m \u001b[1;33m[\u001b[0m\u001b[1;34m\"Smith\"\u001b[0m\u001b[1;33m,\u001b[0m \u001b[1;34m\"Doe\"\u001b[0m\u001b[1;33m,\u001b[0m \u001b[1;34m\"Evans\"\u001b[0m\u001b[1;33m,\u001b[0m \u001b[1;34m\"Rivers\"\u001b[0m\u001b[1;33m]\u001b[0m\u001b[1;33m\u001b[0m\u001b[1;33m\u001b[0m\u001b[0m\n\u001b[1;32m----> 3\u001b[1;33m \u001b[1;32mfor\u001b[0m \u001b[0mz\u001b[0m \u001b[1;32min\u001b[0m \u001b[0mzip\u001b[0m\u001b[1;33m(\u001b[0m\u001b[0mfirsts\u001b[0m\u001b[1;33m,\u001b[0m \u001b[0mlasts\u001b[0m\u001b[1;33m,\u001b[0m \u001b[0mstrict\u001b[0m\u001b[1;33m=\u001b[0m\u001b[1;32mTrue\u001b[0m\u001b[1;33m)\u001b[0m\u001b[1;33m:\u001b[0m\u001b[1;33m\u001b[0m\u001b[1;33m\u001b[0m\u001b[0m\n\u001b[0m\u001b[0;32m      4\u001b[0m     \u001b[0mprint\u001b[0m\u001b[1;33m(\u001b[0m\u001b[0mz\u001b[0m\u001b[1;33m)\u001b[0m\u001b[1;33m\u001b[0m\u001b[1;33m\u001b[0m\u001b[0m\n\u001b[0;32m      5\u001b[0m \u001b[1;33m\u001b[0m\u001b[0m\n",
      "\u001b[1;31mTypeError\u001b[0m: zip() takes no keyword arguments"
     ]
    }
   ],
   "source": [
    "firsts = [\"Anna\", \"Bob\", \"Charles\"]\n",
    "lasts = [\"Smith\", \"Doe\", \"Evans\", \"Rivers\"]\n",
    "for z in zip(firsts, lasts, strict=True):\n",
    "    print(z)\n",
    "    "
   ]
  },
  {
   "cell_type": "markdown",
   "id": "6359b68e",
   "metadata": {},
   "source": [
    "### Create a dictionary with zip"
   ]
  },
  {
   "cell_type": "code",
   "execution_count": 19,
   "id": "b9df45b6",
   "metadata": {
    "scrolled": true
   },
   "outputs": [
    {
     "data": {
      "text/plain": [
       "{'Anna': 'Smith', 'Bob': 'Doe', 'Charles': 'Evans'}"
      ]
     },
     "execution_count": 19,
     "metadata": {},
     "output_type": "execute_result"
    }
   ],
   "source": [
    "firsts = [\"Anna\", \"Bob\", \"Charles\"]\n",
    "lasts = [\"Smith\", \"Doe\", \"Evans\"]\n",
    "dict(zip(firsts, lasts))\n"
   ]
  },
  {
   "cell_type": "markdown",
   "id": "73809eef",
   "metadata": {},
   "source": [
    "### Examples in code"
   ]
  },
  {
   "cell_type": "markdown",
   "id": "2548f55e",
   "metadata": {},
   "source": [
    "#### Matching Paths"
   ]
  },
  {
   "cell_type": "raw",
   "id": "02972bf1",
   "metadata": {},
   "source": [
    "If you are not aware of it, then you might be interested in knowing that Python has a module named pathlib that provides facilities to deal with filesystem paths.\n",
    "When you create a path, you can then check if it matches a given pattern:"
   ]
  },
  {
   "cell_type": "code",
   "execution_count": 21,
   "id": "3c393b96",
   "metadata": {},
   "outputs": [],
   "source": [
    "from pathlib import PurePath"
   ]
  },
  {
   "cell_type": "code",
   "execution_count": 22,
   "id": "079ab4a0",
   "metadata": {
    "scrolled": true
   },
   "outputs": [
    {
     "data": {
      "text/plain": [
       "True"
      ]
     },
     "execution_count": 22,
     "metadata": {},
     "output_type": "execute_result"
    }
   ],
   "source": [
    "PurePath('a/b.py').match('*.py')"
   ]
  },
  {
   "cell_type": "code",
   "execution_count": 23,
   "id": "93693eff",
   "metadata": {},
   "outputs": [
    {
     "data": {
      "text/plain": [
       "True"
      ]
     },
     "execution_count": 23,
     "metadata": {},
     "output_type": "execute_result"
    }
   ],
   "source": [
    "PurePath('/a/b/c.py').match('b/*.py')"
   ]
  },
  {
   "cell_type": "code",
   "execution_count": 24,
   "id": "a21a5380",
   "metadata": {},
   "outputs": [
    {
     "data": {
      "text/plain": [
       "False"
      ]
     },
     "execution_count": 24,
     "metadata": {},
     "output_type": "execute_result"
    }
   ],
   "source": [
    "PurePath('/a/b/c.py').match('a/*.py')"
   ]
  },
  {
   "cell_type": "markdown",
   "id": "c1559677",
   "metadata": {},
   "source": [
    "#### Writing a CSV file"
   ]
  },
  {
   "cell_type": "code",
   "execution_count": 27,
   "id": "7b67ecb0",
   "metadata": {},
   "outputs": [],
   "source": [
    "import csv\n",
    "\n",
    "with open('names.csv', 'w', newline='') as csvfile:\n",
    "    fieldnames = ['first_name', 'last_name']\n",
    "    writer = csv.DictWriter(csvfile, fieldnames=fieldnames)\n",
    "    \n",
    "    writer.writeheader()\n",
    "    writer.writerow({'first_name': 'Baked', 'last_name': 'Beans'})\n",
    "    writer.writerow({'first_name': 'Lovely', 'last_name': 'Spam'})\n",
    "    writer.writerow({'first_name': 'Wonderful', 'last_name': 'Spam'})\n",
    "    \n",
    "    "
   ]
  },
  {
   "cell_type": "raw",
   "id": "6cde985e",
   "metadata": {},
   "source": [
    "The writeheader function is the function that writes the header of the CSV file, and here is what it looks like:\n",
    "class DictWriter:\n",
    "# ...\n",
    "def writeheader(self):\n",
    "   header = dict(zip(self.fieldnames, self.fieldnames))\n",
    "   return self.writerow(header)\n",
    "   \n",
    "Basically, what this function is doing is using zip to transform the header names into a dictionary where the\n",
    "keys and the values are the same, pretending that the header is just a regular data row:\n",
    "\n",
    ">>> fieldnames = ['first_name', 'last_name']\n",
    ">>> dict(zip(fieldnames, fieldnames))\n",
    "{'first_name': 'first_name', 'last_name': 'last_name'}\n",
    "\n",
    "Therefore, the writeheader function just needs to create this dictionary and can then defer the actual writing to the writerow function."
   ]
  },
  {
   "cell_type": "markdown",
   "id": "bef70514",
   "metadata": {},
   "source": [
    "## Enumerate me\n"
   ]
  },
  {
   "cell_type": "code",
   "execution_count": 28,
   "id": "18e0e26d",
   "metadata": {},
   "outputs": [
    {
     "name": "stdout",
     "output_type": "stream",
     "text": [
      "0\n",
      "1\n",
      "2\n"
     ]
    }
   ],
   "source": [
    "for i in range(3):\n",
    "    print(i)"
   ]
  },
  {
   "cell_type": "code",
   "execution_count": 32,
   "id": "1062bfe1",
   "metadata": {
    "scrolled": false
   },
   "outputs": [
    {
     "name": "stdout",
     "output_type": "stream",
     "text": [
      "'<Hey> has 3 letters.'\n",
      "'<there> has 5 letters.'\n"
     ]
    }
   ],
   "source": [
    "words = [\"Hey\", \"there\"]\n",
    "for i in range(len(words)):\n",
    "    print(f\"'<{words[i]}> has {len(words[i])} letters.'\")\n"
   ]
  },
  {
   "cell_type": "code",
   "execution_count": null,
   "id": "44b08aa3",
   "metadata": {},
   "outputs": [],
   "source": [
    "# The Pythonic way of writing such a loop is\n",
    "# by iterating directly over the list:"
   ]
  },
  {
   "cell_type": "code",
   "execution_count": 34,
   "id": "34740c3b",
   "metadata": {
    "scrolled": true
   },
   "outputs": [
    {
     "name": "stdout",
     "output_type": "stream",
     "text": [
      "'<Hey> has 3 letters.'\n",
      "'<there> has 5 letters.'\n"
     ]
    }
   ],
   "source": [
    "words = [\"Hey\", \"there\"]\n",
    "for word in words:\n",
    "    print(f\"'<{word}> has {len(word)} letters.'\")"
   ]
  },
  {
   "cell_type": "code",
   "execution_count": 37,
   "id": "f5be4a95",
   "metadata": {},
   "outputs": [
    {
     "name": "stdout",
     "output_type": "stream",
     "text": [
      "'Word #0: <Hey> has 3 letter'\n",
      "'Word #1: <there> has 5 letter'\n"
     ]
    }
   ],
   "source": [
    "words = [\"Hey\", \"there\"]\n",
    "for i, word in enumerate(words):\n",
    "    print(f\"'Word #{i}: <{word}> has {len(word)} letter'\")"
   ]
  },
  {
   "cell_type": "markdown",
   "id": "983f0a1b",
   "metadata": {},
   "source": [
    "### Optional start argument"
   ]
  },
  {
   "cell_type": "raw",
   "id": "ee786465",
   "metadata": {},
   "source": [
    "The enumerate function can also accept an optional argument that specifies the first index it returns. For\n",
    "example, if we are counting words (like in the example above), we might want to start counting from 1:"
   ]
  },
  {
   "cell_type": "code",
   "execution_count": 40,
   "id": "cb4c3464",
   "metadata": {},
   "outputs": [
    {
     "name": "stdout",
     "output_type": "stream",
     "text": [
      "'Word #1: <Hey> has 3 letter'\n",
      "'Word #2: <there> has 5 letter'\n"
     ]
    }
   ],
   "source": [
    "words = [\"Hey\", \"there\"]\n",
    "for i, word in enumerate(words, 1):\n",
    "    print(f\"'Word #{i}: <{word}> has {len(word)} letter'\")"
   ]
  },
  {
   "cell_type": "code",
   "execution_count": 43,
   "id": "b0077e81",
   "metadata": {},
   "outputs": [
    {
     "name": "stdout",
     "output_type": "stream",
     "text": [
      "-3243\n",
      "-3242\n",
      "-3241\n"
     ]
    }
   ],
   "source": [
    "# This optional argument can come in really handy \n",
    "# as it saves you from having to manually offset\n",
    "# the index.By the way, the argument has to be an\n",
    "# integer but can be negative:\n",
    "for i, v in enumerate('abc', start=-3243):\n",
    "    print(i)"
   ]
  },
  {
   "cell_type": "markdown",
   "id": "ad36446a",
   "metadata": {},
   "source": [
    "### Unpacking when iterating"
   ]
  },
  {
   "cell_type": "code",
   "execution_count": 44,
   "id": "7e3b05b0",
   "metadata": {
    "scrolled": true
   },
   "outputs": [
    {
     "name": "stdout",
     "output_type": "stream",
     "text": [
      "(0, 'a')\n",
      "(1, 'b')\n",
      "(2, 'c')\n"
     ]
    }
   ],
   "source": [
    "# The enumerate function produces a lazy generator\n",
    "#, which means the items you iterate over only \n",
    "# become available as you need them\n",
    "for tup in enumerate(\"abc\"):\n",
    "    print(tup)"
   ]
  },
  {
   "cell_type": "markdown",
   "id": "6b5d883a",
   "metadata": {},
   "source": [
    "### Deep Unpacking"
   ]
  },
  {
   "cell_type": "code",
   "execution_count": 3,
   "id": "9359b363",
   "metadata": {
    "scrolled": true
   },
   "outputs": [
    {
     "name": "stdout",
     "output_type": "stream",
     "text": [
      "'1: 12 pages long'\n",
      "'2: 14 pages long'\n",
      "'3: 19 pages long'\n"
     ]
    }
   ],
   "source": [
    "# Things can get even more interesting when you\n",
    "# use enumerate, for example, on a zip:\n",
    "\n",
    "pages = [5, 17, 31, 50]\n",
    "for i, (start, end) in enumerate(zip(pages, pages[1:]), start=1):\n",
    "    print(f\"'{i}: {end-start} pages long'\")"
   ]
  },
  {
   "cell_type": "code",
   "execution_count": 1,
   "id": "765cd064",
   "metadata": {
    "scrolled": true
   },
   "outputs": [
    {
     "name": "stdout",
     "output_type": "stream",
     "text": [
      "(1, (5, 17))\n",
      "(2, (17, 31))\n",
      "(3, (31, 50))\n"
     ]
    }
   ],
   "source": [
    "# Page where each chapter starts and \n",
    "# the final page of the book.\n",
    "pages = [5, 17, 31, 50]\n",
    "for tup in enumerate(zip(pages, pages[1:]), start=1):\n",
    "    print(tup)"
   ]
  },
  {
   "cell_type": "code",
   "execution_count": 7,
   "id": "3eb7c24d",
   "metadata": {
    "scrolled": true
   },
   "outputs": [
    {
     "name": "stdout",
     "output_type": "stream",
     "text": [
      "'1: 12 pages long.'\n",
      "'2: 14 pages long.'\n",
      "'3: 19 pages long.'\n"
     ]
    }
   ],
   "source": [
    "# What we do is use deep unpacking to access \n",
    "# all these values directly:\n",
    "# pages where each chapter starts and the final page of the book\n",
    "pages = [5, 17, 31, 50]\n",
    "for tup in enumerate(zip(pages, pages[1:]), start=1):\n",
    "    i, (start, end) = tup\n",
    "    print(f\"'{i}: {end-start} pages long.'\")\n"
   ]
  },
  {
   "cell_type": "markdown",
   "id": "ce8b78bf",
   "metadata": {},
   "source": [
    "### Examples in code"
   ]
  },
  {
   "cell_type": "markdown",
   "id": "7085d84a",
   "metadata": {},
   "source": [
    "#### Vanilla enumerate"
   ]
  },
  {
   "cell_type": "code",
   "execution_count": 9,
   "id": "43ab90ea",
   "metadata": {},
   "outputs": [],
   "source": [
    "## from Lib\\doctest.py in Python 3.9\n",
    "class DocTestParser:\n",
    "    # ...\n",
    "    \n",
    "   \n",
    "    def _check_prompt_blank(self, lines, indent, name, lineno):\n",
    "        \"\"\"\n",
    "        Given the lines of a source string (including prompts and\n",
    "        leading indentation), check to make sure that every prompt is\n",
    "        followed by a space character. If any line is not followed by\n",
    "        a space character, then raise ValueError.\n",
    "        \"\"\"\n",
    "        for i, line in enumerate(lines):\n",
    "            if len(line) >= indent+4 and line[indent+3] != ' ':\n",
    "                raise ValueError('line %r of the docstring for %s '\n",
    "                         'lacks blank after %s: %r' %\n",
    "                         (lineno+i+1, name,\n",
    "                          line[indent:indent+3], line))"
   ]
  },
  {
   "cell_type": "code",
   "execution_count": 14,
   "id": "bab6f3bb",
   "metadata": {},
   "outputs": [],
   "source": [
    "def sum_nats(n):\n",
    "    \"\"\"Sums the first n natural numbers.\n",
    "    >>> sum_nats(1)\n",
    "    1\n",
    "    >>> sum_nats(10)\n",
    "    55\n",
    "    >>> sum_nats(100)\n",
    "    5050\n",
    "    \"\"\"\n",
    "    \n",
    "    return int(n*(n+1)/2)\n",
    "\n",
    "if __name__ == \"__main__\":\n",
    "    import doctest\n",
    "    doctest.testmod()\n"
   ]
  },
  {
   "cell_type": "markdown",
   "id": "277f758f",
   "metadata": {},
   "source": [
    "#### Using the optional argument"
   ]
  },
  {
   "cell_type": "raw",
   "id": "c15ea25c",
   "metadata": {},
   "source": [
    "Notice that in the string formatting at the end we compute lineno+i+1 to raise the error message with the\n",
    "correct line number for the prompt that was faulty… But this is the same as rewriting the loop to use the\n",
    "start= argument:"
   ]
  },
  {
   "cell_type": "code",
   "execution_count": 15,
   "id": "b2c75f5f",
   "metadata": {},
   "outputs": [],
   "source": [
    "class DocTestParser:\n",
    "    # ...\n",
    "    \n",
    "   \n",
    "    def _check_prompt_blank(self, lines, indent, name, lineno):\n",
    "        \"\"\"\n",
    "        Given the lines of a source string (including prompts and\n",
    "        leading indentation), check to make sure that every prompt is\n",
    "        followed by a space character. If any line is not followed by\n",
    "        a space character, then raise ValueError.\n",
    "        \"\"\"\n",
    "        for i, line in enumerate(lines, start=lineno+1):\n",
    "            if len(line) >= indent+4 and line[indent+3] != ' ':\n",
    "                raise ValueError('line %r of the docstring for %s '\n",
    "                         'lacks blank after %s: %r' %\n",
    "                         (line_n, name,\n",
    "                          line[indent:indent+3], line))"
   ]
  },
  {
   "cell_type": "markdown",
   "id": "3a8955a3",
   "metadata": {},
   "source": [
    "#### Counting days of the week"
   ]
  },
  {
   "cell_type": "code",
   "execution_count": 21,
   "id": "826ababf",
   "metadata": {
    "scrolled": true
   },
   "outputs": [
    {
     "name": "stdout",
     "output_type": "stream",
     "text": [
      "(0, 0)\n",
      "(0, 1)\n",
      "(0, 2)\n",
      "(1, 3)\n",
      "(2, 4)\n",
      "(3, 5)\n",
      "(4, 6)\n",
      "(5, 0)\n",
      "(6, 1)\n",
      "(7, 2)\n",
      "(8, 3)\n",
      "(9, 4)\n",
      "(10, 5)\n",
      "(11, 6)\n",
      "(12, 0)\n",
      "(13, 1)\n",
      "(14, 2)\n",
      "(15, 3)\n",
      "(16, 4)\n",
      "(17, 5)\n",
      "(18, 6)\n",
      "(19, 0)\n",
      "(20, 1)\n",
      "(21, 2)\n",
      "(22, 3)\n",
      "(23, 4)\n",
      "(24, 5)\n",
      "(25, 6)\n",
      "(26, 0)\n",
      "(27, 1)\n",
      "(28, 2)\n",
      "(29, 3)\n",
      "(30, 4)\n",
      "(0, 5)\n",
      "(0, 6)\n"
     ]
    }
   ],
   "source": [
    "import calendar\n",
    "\n",
    "for arg in calendar.Calendar().itermonthdays2(2021, 4):\n",
    "    print(arg)"
   ]
  },
  {
   "cell_type": "raw",
   "id": "b54f72af",
   "metadata": {},
   "source": [
    "The numbers on the left show the day of the month and the days on the right encode the day of the week,\n",
    "where 0 is Monday, up to 6 which is Sunday. The 6th of April of 2021 (the day I wrote this article on) was a\n",
    "Tuesday, which is encoded by the (6, 1) in the output above."
   ]
  },
  {
   "cell_type": "code",
   "execution_count": 23,
   "id": "0c3722a2",
   "metadata": {},
   "outputs": [],
   "source": [
    "## from lib\\calendar.py in Python 3.9\n",
    "class Calendar(object):\n",
    "    #...\n",
    "    \n",
    "    def itermonthdays2(self, year, month):\n",
    "        \"\"\"\n",
    "        like itermonthdates(), but will yield (day number, weekday number)\n",
    "        tuples, For days outside the specifed month the day number is 0.\n",
    "        \"\"\"\n",
    "        for i, d in enumerate(self.itermonthdays(year, month), self.firstweekday):\n",
    "            yield d, i % 7"
   ]
  },
  {
   "cell_type": "code",
   "execution_count": 25,
   "id": "19ec5fca",
   "metadata": {
    "scrolled": true
   },
   "outputs": [
    {
     "name": "stdout",
     "output_type": "stream",
     "text": [
      "0\n",
      "0\n",
      "0\n",
      "0\n",
      "1\n",
      "2\n",
      "3\n",
      "4\n",
      "5\n",
      "6\n",
      "7\n",
      "8\n",
      "9\n",
      "10\n",
      "11\n",
      "12\n",
      "13\n",
      "14\n",
      "15\n",
      "16\n",
      "17\n",
      "18\n",
      "19\n",
      "20\n",
      "21\n",
      "22\n",
      "23\n",
      "24\n",
      "25\n",
      "26\n",
      "27\n",
      "28\n",
      "29\n",
      "30\n",
      "0\n"
     ]
    }
   ],
   "source": [
    "for d in calendar.Calendar(6).itermonthdays(2021, 4):\n",
    "    print(d)"
   ]
  },
  {
   "cell_type": "raw",
   "id": "594beaa5",
   "metadata": {},
   "source": [
    "The first four 0 are the four March days that show up in the top week and the final 0 corresponds to the 1st\n",
    "of May that is shown in the bottom right corner of my calendar."
   ]
  },
  {
   "cell_type": "markdown",
   "id": "33a35ebb",
   "metadata": {},
   "source": [
    "### Filtering the indices"
   ]
  },
  {
   "cell_type": "code",
   "execution_count": 26,
   "id": "f419b503",
   "metadata": {},
   "outputs": [
    {
     "data": {
      "text/plain": [
       "[0, 1, 2, 7, 10]"
      ]
     },
     "execution_count": 26,
     "metadata": {},
     "output_type": "execute_result"
    }
   ],
   "source": [
    "nums = [4071, 53901, 96045, 84886, 5228, 20108, 42468, 89385, 22040, 18800, 4071]\n",
    "odd = lambda x: x%2\n",
    "\n",
    "[i for i, n in enumerate(nums) if odd(n)]"
   ]
  },
  {
   "cell_type": "markdown",
   "id": "87b03d6e",
   "metadata": {},
   "source": [
    "## str and repr\n"
   ]
  },
  {
   "cell_type": "raw",
   "id": "6887a0e1",
   "metadata": {},
   "source": [
    "Python has two built-in mechanisms that allow you to convert an object to a string, so that you can look at it and print it. I am talking about the str class and the built-in repr function.\n",
    "There is often confusion as to what the differences between these two built-ins are, but the difference is\n",
    "simple and clear. The str class is used when you want to convert something to the string type, and is also\n",
    "used when you need a readable representation of your object. On the other hand, the repr function is used\n",
    "to create an unambiguous representation of its argument. End users generally use str because they want to print readable and good looking text, whereas developers may use repr because they need to debug code and need to make sure they know what they are looking at. For example, take a look at the following interactive session:"
   ]
  },
  {
   "cell_type": "code",
   "execution_count": 1,
   "id": "a5ef1566",
   "metadata": {},
   "outputs": [
    {
     "name": "stdout",
     "output_type": "stream",
     "text": [
      "3\n"
     ]
    }
   ],
   "source": [
    "print(3)"
   ]
  },
  {
   "cell_type": "code",
   "execution_count": 2,
   "id": "c49dc37b",
   "metadata": {},
   "outputs": [
    {
     "name": "stdout",
     "output_type": "stream",
     "text": [
      "3\n"
     ]
    }
   ],
   "source": [
    "print(\"3\")"
   ]
  },
  {
   "cell_type": "code",
   "execution_count": 3,
   "id": "33a61bad",
   "metadata": {},
   "outputs": [
    {
     "data": {
      "text/plain": [
       "3"
      ]
     },
     "execution_count": 3,
     "metadata": {},
     "output_type": "execute_result"
    }
   ],
   "source": [
    "3"
   ]
  },
  {
   "cell_type": "code",
   "execution_count": 4,
   "id": "232c2f29",
   "metadata": {},
   "outputs": [
    {
     "data": {
      "text/plain": [
       "'3'"
      ]
     },
     "execution_count": 4,
     "metadata": {},
     "output_type": "execute_result"
    }
   ],
   "source": [
    "\"3\""
   ]
  },
  {
   "cell_type": "code",
   "execution_count": 1,
   "id": "4fc8d2c2",
   "metadata": {
    "scrolled": true
   },
   "outputs": [
    {
     "data": {
      "text/plain": [
       "[3, '3']"
      ]
     },
     "execution_count": 1,
     "metadata": {},
     "output_type": "execute_result"
    }
   ],
   "source": [
    "[3, \"3\"]"
   ]
  },
  {
   "cell_type": "code",
   "execution_count": 2,
   "id": "4d255b35",
   "metadata": {},
   "outputs": [
    {
     "name": "stdout",
     "output_type": "stream",
     "text": [
      "[3, '3']\n"
     ]
    }
   ],
   "source": [
    "print([3, \"3\"])"
   ]
  },
  {
   "cell_type": "code",
   "execution_count": 3,
   "id": "93c01a6f",
   "metadata": {
    "scrolled": true
   },
   "outputs": [
    {
     "data": {
      "text/plain": [
       "True"
      ]
     },
     "execution_count": 3,
     "metadata": {},
     "output_type": "execute_result"
    }
   ],
   "source": [
    "str([3, \"3\"]) == repr([3, \"3\"])"
   ]
  },
  {
   "cell_type": "markdown",
   "id": "f59a330a",
   "metadata": {},
   "source": [
    "## The __str__ and __repr__ dunder methods"
   ]
  },
  {
   "cell_type": "code",
   "execution_count": 4,
   "id": "c5cac62f",
   "metadata": {},
   "outputs": [],
   "source": [
    "class A:\n",
    "    pass\n",
    "\n",
    "a = A()\n"
   ]
  },
  {
   "cell_type": "code",
   "execution_count": 5,
   "id": "9ec10a60",
   "metadata": {},
   "outputs": [
    {
     "name": "stdout",
     "output_type": "stream",
     "text": [
      "<__main__.A object at 0x0000020E2E02FEE0>\n"
     ]
    }
   ],
   "source": [
    "print(a)"
   ]
  },
  {
   "cell_type": "code",
   "execution_count": 6,
   "id": "bfce87f0",
   "metadata": {
    "scrolled": true
   },
   "outputs": [
    {
     "data": {
      "text/plain": [
       "<__main__.A at 0x20e2e02fee0>"
      ]
     },
     "execution_count": 6,
     "metadata": {},
     "output_type": "execute_result"
    }
   ],
   "source": [
    "a"
   ]
  },
  {
   "cell_type": "raw",
   "id": "2b7503e3",
   "metadata": {},
   "source": [
    "If you want to display your objects properly, you will want to implement the __str__ and __repr__ dunder methods (dunder stands for double underscore), and the implementations should follow the use case of str and repr outlined above: the implementation of __str__ should provide a nice, readable representation of your object and __repr__ should represent unambiguously your object, preferably by providing an expression that could be used to rebuild the object"
   ]
  },
  {
   "cell_type": "code",
   "execution_count": 8,
   "id": "3f78acf3",
   "metadata": {
    "scrolled": true
   },
   "outputs": [
    {
     "data": {
      "text/plain": [
       "<__main__.A at 0x20e2e043100>"
      ]
     },
     "execution_count": 8,
     "metadata": {},
     "output_type": "execute_result"
    }
   ],
   "source": [
    "class A:\n",
    "    def __str__(self):\n",
    "        return \"A\"\n",
    "\n",
    "a = A()\n",
    "a"
   ]
  },
  {
   "cell_type": "code",
   "execution_count": 9,
   "id": "386a9521",
   "metadata": {},
   "outputs": [
    {
     "name": "stdout",
     "output_type": "stream",
     "text": [
      "A\n"
     ]
    }
   ],
   "source": [
    "print(a)"
   ]
  },
  {
   "cell_type": "code",
   "execution_count": 10,
   "id": "f0129138",
   "metadata": {},
   "outputs": [
    {
     "data": {
      "text/plain": [
       "A"
      ]
     },
     "execution_count": 10,
     "metadata": {},
     "output_type": "execute_result"
    }
   ],
   "source": [
    "class A:\n",
    "    def __repr__(self):\n",
    "        return \"A\"\n",
    "    \n",
    "a = A()\n",
    "a"
   ]
  },
  {
   "cell_type": "code",
   "execution_count": 11,
   "id": "afa78203",
   "metadata": {},
   "outputs": [
    {
     "name": "stdout",
     "output_type": "stream",
     "text": [
      "A\n"
     ]
    }
   ],
   "source": [
    "print(a)"
   ]
  },
  {
   "cell_type": "markdown",
   "id": "4d565070",
   "metadata": {},
   "source": [
    "### Example in Code"
   ]
  },
  {
   "cell_type": "code",
   "execution_count": 12,
   "id": "235fe50b",
   "metadata": {},
   "outputs": [],
   "source": [
    "import datetime\n",
    "date = datetime.datetime(2021, 2, 2)"
   ]
  },
  {
   "cell_type": "code",
   "execution_count": 13,
   "id": "6bf5b23b",
   "metadata": {},
   "outputs": [
    {
     "name": "stdout",
     "output_type": "stream",
     "text": [
      "datetime.datetime(2021, 2, 2, 0, 0)\n"
     ]
    }
   ],
   "source": [
    "print(repr(date))"
   ]
  },
  {
   "cell_type": "code",
   "execution_count": 14,
   "id": "49c2b0ed",
   "metadata": {},
   "outputs": [
    {
     "name": "stdout",
     "output_type": "stream",
     "text": [
      "2021-02-02 00:00:00\n"
     ]
    }
   ],
   "source": [
    "print(str(date))"
   ]
  },
  {
   "cell_type": "code",
   "execution_count": 15,
   "id": "33300e39",
   "metadata": {},
   "outputs": [
    {
     "data": {
      "text/plain": [
       "True"
      ]
     },
     "execution_count": 15,
     "metadata": {},
     "output_type": "execute_result"
    }
   ],
   "source": [
    "# We can see that repr(date) could be used to \n",
    "# create the same exact object:\n",
    "\n",
    "date == datetime.datetime(2021, 2, 2, 0, 0)"
   ]
  },
  {
   "cell_type": "code",
   "execution_count": 16,
   "id": "8d76e8d5",
   "metadata": {
    "scrolled": true
   },
   "outputs": [
    {
     "data": {
      "text/plain": [
       "True"
      ]
     },
     "execution_count": 16,
     "metadata": {},
     "output_type": "execute_result"
    }
   ],
   "source": [
    "date == eval(repr(date))"
   ]
  },
  {
   "cell_type": "raw",
   "id": "e1cf0aed",
   "metadata": {},
   "source": [
    "Whereas str(date) creates a nice-looking representation of the date in question. Notice that from its str\n",
    "we can’t even tell that we were dealing with a datetime.datetime object."
   ]
  },
  {
   "cell_type": "markdown",
   "id": "f64f1970",
   "metadata": {},
   "source": [
    "### 2D Point"
   ]
  },
  {
   "cell_type": "raw",
   "id": "ac185f1f",
   "metadata": {},
   "source": [
    "An example custom usage of the __str__ and __repr__ dunder methods could come into play if you were\n",
    "to implement a simple class that represents 2D points, for example because you have to deal with images or a game or maps, or whatever your use case is."
   ]
  },
  {
   "cell_type": "code",
   "execution_count": 19,
   "id": "300fd5b7",
   "metadata": {
    "scrolled": true
   },
   "outputs": [
    {
     "name": "stdout",
     "output_type": "stream",
     "text": [
      "To build the point (0, 0) in your code, try writing Point2D(0, 0).\n"
     ]
    }
   ],
   "source": [
    "class Point2D:\n",
    "    \"\"\"A class to represent points in a 2D space.\"\"\"\n",
    "    \n",
    "    def __init__(self, x, y):\n",
    "        self.x = x \n",
    "        self.y = y\n",
    "        \n",
    "    def __str__(self):\n",
    "        \"\"\"Provide a good-looking representation of the object.\"\"\"\n",
    "        return f\"({self.x}, {self.y})\"\n",
    "    \n",
    "    def __repr__(self):\n",
    "        \"\"\"Provide an unambiguous way of rebuilding this object. \"\"\"\n",
    "        \n",
    "        return f\"Point2D({repr(self.x)}, {repr(self.y)})\"\n",
    "    \n",
    "p = Point2D(0, 0) # the origin.\n",
    "print(f\"To build the point {p} in your code, try writing {repr(p)}.\")"
   ]
  },
  {
   "cell_type": "raw",
   "id": "c072b150",
   "metadata": {},
   "source": [
    "Running this code prints To build the point (0, 0) in your code, try writing Point2D(0, 0). to your console. Your end user may be accustomed to 2D points, and thus they may need nothing more than\n",
    "the standard (x, y) representation of a 2D point. During debugging, the Point2D prefix is useful because it helps you distinguish between a tuple and a custom Point2D instance."
   ]
  },
  {
   "cell_type": "markdown",
   "id": "7924ee72",
   "metadata": {},
   "source": [
    "## Structural pattern matching tutorial"
   ]
  },
  {
   "cell_type": "code",
   "execution_count": null,
   "id": "6928c5f9",
   "metadata": {},
   "outputs": [],
   "source": [
    "colour = (25, 56, 200)\n",
    "\n",
    "match colour:\n",
    "    case r, g, b:\n",
    "        print(\"No alpha,\")\n",
    "    case r, g, b, alpha:\n",
    "        print(f\"Alpha is {alpha}\")"
   ]
  },
  {
   "cell_type": "markdown",
   "id": "ede5a09c",
   "metadata": {},
   "source": [
    "#### structural pattern matching Python could already do"
   ]
  },
  {
   "cell_type": "code",
   "execution_count": 19,
   "id": "471a3af5",
   "metadata": {},
   "outputs": [],
   "source": [
    " a, *b, c,  = [1, 2, 3, 4, 5,]"
   ]
  },
  {
   "cell_type": "code",
   "execution_count": 20,
   "id": "ddf245e3",
   "metadata": {
    "scrolled": true
   },
   "outputs": [
    {
     "data": {
      "text/plain": [
       "[2, 3, 4]"
      ]
     },
     "execution_count": 20,
     "metadata": {},
     "output_type": "execute_result"
    }
   ],
   "source": [
    "b"
   ]
  },
  {
   "cell_type": "code",
   "execution_count": 21,
   "id": "6d240881",
   "metadata": {},
   "outputs": [],
   "source": [
    "# And we can also do deep unpacking\n",
    "name, (r, g, b) = (\"red\", (250, 23, 10))"
   ]
  },
  {
   "cell_type": "code",
   "execution_count": 22,
   "id": "27d3785c",
   "metadata": {},
   "outputs": [
    {
     "data": {
      "text/plain": [
       "'red'"
      ]
     },
     "execution_count": 22,
     "metadata": {},
     "output_type": "execute_result"
    }
   ],
   "source": [
    "name"
   ]
  },
  {
   "cell_type": "code",
   "execution_count": 23,
   "id": "9a2f3a53",
   "metadata": {
    "scrolled": true
   },
   "outputs": [
    {
     "data": {
      "text/plain": [
       "250"
      ]
     },
     "execution_count": 23,
     "metadata": {},
     "output_type": "execute_result"
    }
   ],
   "source": [
    "r"
   ]
  },
  {
   "cell_type": "code",
   "execution_count": 24,
   "id": "270c6f79",
   "metadata": {},
   "outputs": [
    {
     "data": {
      "text/plain": [
       "10"
      ]
     },
     "execution_count": 24,
     "metadata": {},
     "output_type": "execute_result"
    }
   ],
   "source": [
    "b\n"
   ]
  },
  {
   "cell_type": "markdown",
   "id": "b37bd31c",
   "metadata": {},
   "source": [
    "### Your first match statement"
   ]
  },
  {
   "cell_type": "code",
   "execution_count": 25,
   "id": "92b5b1c4",
   "metadata": {},
   "outputs": [],
   "source": [
    "def factorial(n):\n",
    "    if n == 0 or n == 1:\n",
    "        return 1\n",
    "    else:\n",
    "        return n * factorial(n-1)"
   ]
  },
  {
   "cell_type": "code",
   "execution_count": 26,
   "id": "a72677d5",
   "metadata": {
    "scrolled": true
   },
   "outputs": [
    {
     "data": {
      "text/plain": [
       "120"
      ]
     },
     "execution_count": 26,
     "metadata": {},
     "output_type": "execute_result"
    }
   ],
   "source": [
    "factorial(5)"
   ]
  },
  {
   "cell_type": "code",
   "execution_count": 42,
   "id": "5c70f289",
   "metadata": {
    "scrolled": true
   },
   "outputs": [
    {
     "ename": "SyntaxError",
     "evalue": "invalid syntax (Temp/ipykernel_22044/1433909736.py, line 3)",
     "output_type": "error",
     "traceback": [
      "\u001b[1;36m  File \u001b[1;32m\"C:\\Users\\JUSTIN~1.O_K\\AppData\\Local\\Temp/ipykernel_22044/1433909736.py\"\u001b[1;36m, line \u001b[1;32m3\u001b[0m\n\u001b[1;33m    match n:\u001b[0m\n\u001b[1;37m          ^\u001b[0m\n\u001b[1;31mSyntaxError\u001b[0m\u001b[1;31m:\u001b[0m invalid syntax\n"
     ]
    }
   ],
   "source": [
    "# python 3.10.0\n",
    "# instead of using an if statement, we could use a match\n",
    "def factorial(n):\n",
    "    match n:\n",
    "        case 0 | 1:\n",
    "            return 1\n",
    "        case _:\n",
    "            return n * factorial(n - 1)"
   ]
  },
  {
   "cell_type": "markdown",
   "id": "532d9496",
   "metadata": {},
   "source": [
    "### Pattern matching the basic structure "
   ]
  },
  {
   "cell_type": "code",
   "execution_count": 41,
   "id": "0cd58d11",
   "metadata": {},
   "outputs": [
    {
     "ename": "SyntaxError",
     "evalue": "invalid syntax (Temp/ipykernel_22044/566194111.py, line 4)",
     "output_type": "error",
     "traceback": [
      "\u001b[1;36m  File \u001b[1;32m\"C:\\Users\\JUSTIN~1.O_K\\AppData\\Local\\Temp/ipykernel_22044/566194111.py\"\u001b[1;36m, line \u001b[1;32m4\u001b[0m\n\u001b[1;33m    match colour:\u001b[0m\n\u001b[1;37m          ^\u001b[0m\n\u001b[1;31mSyntaxError\u001b[0m\u001b[1;31m:\u001b[0m invalid syntax\n"
     ]
    }
   ],
   "source": [
    "\n",
    "def normalise_colour_info(colour):\n",
    "    \"\"\"Normalise colour info to (name, (r, g, b, alpha)).\"\"\"\n",
    "    \n",
    "    match colour:\n",
    "        case (r, g, b):\n",
    "            name = \"\"\n",
    "            a = 0\n",
    "        case (r, g, b, a):\n",
    "            name = \"\"\n",
    "        case (name, (r, g, b)):\n",
    "            a = 0\n",
    "        case (name, (r, g, b, a)):\n",
    "            pass\n",
    "        case _:\n",
    "            raise ValueError(\"Unknown colour info.\")\n",
    "    return (name, (r, g, b, a))"
   ]
  },
  {
   "cell_type": "code",
   "execution_count": 45,
   "id": "8a6d81e2",
   "metadata": {},
   "outputs": [
    {
     "name": "stdout",
     "output_type": "stream",
     "text": [
      "None\n"
     ]
    }
   ],
   "source": [
    "# Prints ('', (240, 248, 255, 0))\n",
    "print(normalise_colour_info((240, 248, 255)))"
   ]
  },
  {
   "cell_type": "code",
   "execution_count": null,
   "id": "1506a922",
   "metadata": {},
   "outputs": [],
   "source": [
    "# Prints ('', (240, 248, 255, 0))\n",
    "print(normalise_colour_info((240, 248, 255, 0)))"
   ]
  },
  {
   "cell_type": "code",
   "execution_count": null,
   "id": "cf3a4213",
   "metadata": {},
   "outputs": [],
   "source": [
    "# Prints ('AliceBlue', (240, 248, 255, 0))\n",
    "print(normalise_colour_info((\"AliceBlue\", (240, 248, 255))))"
   ]
  },
  {
   "cell_type": "code",
   "execution_count": null,
   "id": "08798ec8",
   "metadata": {},
   "outputs": [],
   "source": [
    "# Prints ('AliceBlue', (240, 248, 255, 0.3))\n",
    "print(normalise_colour_info((\"AliceBlue\", (240, 248, 255, 0.3))))"
   ]
  },
  {
   "cell_type": "code",
   "execution_count": 44,
   "id": "ec99a1b3",
   "metadata": {},
   "outputs": [],
   "source": [
    "# This is a great improvement over the equivalent code \n",
    "# with if statements\n",
    "def normalise_colour_info(colour):\n",
    "    \"\"\"Normalise colour info to (name, (r, g, b))\"\"\"\n",
    "    \n",
    "    if not isinstance(colour, (list, tuple)):\n",
    "        raise ValueError(\"Unknown colour info.\")\n",
    "    \n",
    "    if len(colour) == 3:\n",
    "        r, g, b = colour\n",
    "        name = \"\"\n",
    "        a = 0\n",
    "    \n",
    "    elif len(colour) == 4:\n",
    "        r, g, b, a = colour\n",
    "        name = \"\"\n",
    "    elif len(colour) != 2:\n",
    "        raise ValueError(\"Unknown colour info.\")\n",
    "    else:\n",
    "        name, value = colour\n",
    "        if not isinstance(values, (list, tuples)) or len(values) not in [3, 4]:\n",
    "            raise ValueError(\"Unknown colour info.\")\n",
    "        elif len(values) == 3:\n",
    "            r, g, b = values\n",
    "            a = 0\n",
    "        else:\n",
    "            r, g, b, a = values\n",
    "        return(name, (r, g, b, a))\n"
   ]
  },
  {
   "cell_type": "code",
   "execution_count": 46,
   "id": "26500b05",
   "metadata": {
    "scrolled": true
   },
   "outputs": [
    {
     "ename": "SyntaxError",
     "evalue": "invalid syntax (Temp/ipykernel_22044/2372893761.py, line 4)",
     "output_type": "error",
     "traceback": [
      "\u001b[1;36m  File \u001b[1;32m\"C:\\Users\\JUSTIN~1.O_K\\AppData\\Local\\Temp/ipykernel_22044/2372893761.py\"\u001b[1;36m, line \u001b[1;32m4\u001b[0m\n\u001b[1;33m    match colour:\u001b[0m\n\u001b[1;37m          ^\u001b[0m\n\u001b[1;31mSyntaxError\u001b[0m\u001b[1;31m:\u001b[0m invalid syntax\n"
     ]
    }
   ],
   "source": [
    "def normalise_colour_info(colour):\n",
    "    \"\"\"Normalise colour info in (name, (r, g, b, alpha))\"\"\"\n",
    "    \n",
    "    match colour:\n",
    "        case (int(r), int(g), int(b)):\n",
    "            name =\"\"\n",
    "            a = 0\n",
    "        case (int(r), int(g), int(b), int(a)):\n",
    "            a = 0\n",
    "        case (str(name), (int(r), int(g), int(b), int(a))):\n",
    "            pass\n",
    "        case _:\n",
    "            raise ValueError(\"Unknown colour info.\")\n",
    "    return (name, (r, g, b, a))\n",
    "         \n",
    "        \n",
    "    \n"
   ]
  },
  {
   "cell_type": "code",
   "execution_count": null,
   "id": "a323165e",
   "metadata": {},
   "outputs": [],
   "source": [
    "print(normalise_colour_info((\"AliceBlue\", (240, 248, 255))))\n",
    "# Raises # ValueError: Unknown colour info.\n",
    "print(normalise_colour_info2((\"Red\", (255, 0, \"0\"))))"
   ]
  },
  {
   "cell_type": "code",
   "execution_count": 47,
   "id": "ca1858c9",
   "metadata": {
    "scrolled": true
   },
   "outputs": [
    {
     "name": "stdout",
     "output_type": "stream",
     "text": [
      "Banana\n"
     ]
    }
   ],
   "source": [
    "x, y, z = True, False, True\n",
    "if x and y and z:\n",
    "  print (\"Apple\")\n",
    "elif x and z:\n",
    "  print(\"Banana\")\n",
    "elif z:\n",
    "  print (\"Pear\")\n",
    "  "
   ]
  },
  {
   "cell_type": "markdown",
   "id": "13297409",
   "metadata": {},
   "source": [
    "### Matching the structure of objects"
   ]
  },
  {
   "cell_type": "code",
   "execution_count": null,
   "id": "51ff9ee5",
   "metadata": {},
   "outputs": [],
   "source": [
    "class Point2D:\n",
    "    \"\"\"A class to represent points in a 2D space.\"\"\"\n",
    "    \n",
    "    def __init__(self, x, y):\n",
    "        \n",
    "        self.x = x\n",
    "        self.y = y\n",
    "    def __str__(self):\n",
    "        \"\"\"Provide a good-looking representation of the object.\"\"\"\n",
    "        return f\"({self.x}, {self.y})\"\n",
    "    \n",
    "    def __repr__(self):\n",
    "        \"\"\"Provide an unambiguous way of rebuilding this object.\"\"\"\n",
    "        return f\"Point2D({repr(self.x)}, {repr(self.y)})\"\n",
    "    "
   ]
  },
  {
   "cell_type": "code",
   "execution_count": null,
   "id": "9a42d8b1",
   "metadata": {},
   "outputs": [],
   "source": [
    "# Imagine we now want to write a little function that\n",
    "# takes a Point2D and writes a little description of\n",
    "# where the point lies. We can use pattern matching to\n",
    "# capture the values of the x and y attributes and,\n",
    "# what is more we can use short if statements to help\n",
    "# narrow down the type of matches we want to succeed!\n",
    "class Point2D:\n",
    "    \"\"\"A class is represent points in a 2D space\"\"\"\n",
    "    \n",
    "    def describe_point(point):\n",
    "        \"\"\"Write a human-readable description of the point position.\"\"\"\n",
    "        \n",
    "        match point:\n",
    "            case Point2D(x=0, y=0):\n",
    "                desc = \"at the origin\"\n",
    "            case Point2D(x=0, y=y):\n",
    "                desc = f\"in the vertical axis, at y = {y}\"\n",
    "            case Point2D(x=x, y=0):\n",
    "                desc = f\" in the horizontal axis, at x = {x}\"\n",
    "            case Point2D(x=x, y=y) if x == y:\n",
    "                desc = f\"along the x = y line, with x = y = {x}\"\n",
    "            case Point2D(x=x, y=y) if x == -y:\n",
    "                desc = f\"along the x = -y line, with x = {x} and y = {y}\"\n",
    "            case Point2D(x=x, y=y):\n",
    "                desc = f\"at {point}\"\n",
    "                \n",
    "        return \"the point is \" + desc\n",
    "            "
   ]
  },
  {
   "cell_type": "code",
   "execution_count": null,
   "id": "046b6157",
   "metadata": {},
   "outputs": [],
   "source": [
    "# Prints \"The point is at the origin\"\n",
    "print(describe_point(Point2D(0, 0)))\n",
    "# Prints \"The point is in the horizontal axis, at x = 3\"\n",
    "print(describe_point(Point2D(3, 0)))\n",
    "# Prints \"# The point is along the x = -y line, with x = 3 and y = -3\"\n",
    "print(describe_point(Point2D(3, -3)))\n",
    "# Prints \"# The point is at (1, 2)\"\n",
    "print(describe_point(Point2D(1, 2)))"
   ]
  },
  {
   "cell_type": "markdown",
   "id": "603f2b18",
   "metadata": {},
   "source": [
    "###   __match_args__"
   ]
  },
  {
   "cell_type": "raw",
   "id": "ef6f4513",
   "metadata": {},
   "source": [
    "Now, I don’t know if you noticed, but didn’t all the x= and y= in the code snippet above annoy you? Every\n",
    "time I wrote a new pattern for a Point2D instance, I had to specify what argument was x and what was y. For\n",
    "classes where this order is not arbitrary, we can use __match_args__ to tell Python how we would like match\n",
    "to match the attributes of our object.\n",
    "Here is a shorter version of the example above, making use of __match_args__ to let Python know the order\n",
    "in which arguments to Point2D should match:"
   ]
  },
  {
   "cell_type": "code",
   "execution_count": null,
   "id": "e628ba47",
   "metadata": {},
   "outputs": [],
   "source": [
    "class Point2D:\n",
    "    \"\"\"A class to represent points in a 2D space\"\"\"\n",
    "    \n",
    "    __match_args__ = [\"x\", \"y\"]\n",
    "    def __init__(self, x, y):\n",
    "        self.x = x\n",
    "        self.y = y\n",
    "        \n",
    "    def describe_point(point):\n",
    "        \"\"\"Write a human-readable descriptions of the point positions\"\"\"\n",
    "        match point:\n",
    "            case Point2D(0, 0):\n",
    "                desc = f\"at the origin\"\n",
    "            case Point2D(0, y):\n",
    "                 desc = f\"in the vertical axis, at y = {y}\"\n",
    "            case Point2D(x, 0):\n",
    "                 desc = f\" in the horizontal axis, at x = {x}\"\n",
    "            case Point2D(x, y) if x == y:\n",
    "                 desc = f\"along the x = y line, with x = y = {x}\"\n",
    "            case Point2D(x, y) if x == -y:\n",
    "                 desc = f\"along the x = -y line, with x = {x} and y = {y}\"\n",
    "            case Point2D(x, y):\n",
    "                 desc = f\"at {point}\"\n",
    "        \n",
    "        return \" This point is \" + desc\n",
    "            \n",
    "            \n",
    "            "
   ]
  },
  {
   "cell_type": "markdown",
   "id": "a3db774d",
   "metadata": {},
   "source": [
    "### Wildcards"
   ]
  },
  {
   "cell_type": "code",
   "execution_count": 3,
   "id": "b0ac1df0",
   "metadata": {
    "scrolled": true
   },
   "outputs": [
    {
     "name": "stdout",
     "output_type": "stream",
     "text": [
      "0 [1, 2, 3, 4, 5, 6, 7, 8] 9\n"
     ]
    }
   ],
   "source": [
    "head, *body, tail = range(10)\n",
    "print(head, body, tail)"
   ]
  },
  {
   "cell_type": "raw",
   "id": "1060df29",
   "metadata": {},
   "source": [
    "where the *body tells Python to put in body whatever does not go into head or tail, you can use * and **\n",
    "wildcards. You can use * with lists and tuples to match the remaining of it:"
   ]
  },
  {
   "cell_type": "code",
   "execution_count": null,
   "id": "3f541279",
   "metadata": {},
   "outputs": [],
   "source": [
    "def rule_substitution(seq):\n",
    "    new_seq = []\n",
    "    while seq:\n",
    "        match seq:\n",
    "            case [x, y , z, *tail] if x == y == z:\n",
    "                new_seq.extend([\"3\", x])\n",
    "            case [x, y , z, *tail] if x == y:\n",
    "                new_seq.extend([\"2\", x])\n",
    "            case [x, y , z, *tail] if x == z: \n",
    "                new_seq.extend([\"1\", x])\n",
    "        seq = tail\n",
    "    return new_seq\n",
    "seq = [\"1\"]\n",
    "for _ in range(10):\n",
    "    seq = rule_substitution(seq)\n",
    "    print(\"\".join(seq))\n",
    "\"\"\"\n",
    "Prints:\n",
    "1\n",
    "11\n",
    "21\n",
    "1211\n",
    "111221\n",
    "312211\n",
    "13112221\n",
    "1113213211\n",
    "31131211131221\n",
    "13211311123113112211\n",
    "11131221133112132113212221\n",
    "\"\"\"\n",
    "                "
   ]
  },
  {
   "cell_type": "markdown",
   "id": "add67dde",
   "metadata": {},
   "source": [
    "### Plain dictionary matching"
   ]
  },
  {
   "cell_type": "raw",
   "id": "d0f8780b",
   "metadata": {},
   "source": [
    "Similarly, we can use ** to match the remainder of a dictionary. But first, let us see what is the behaviour\n",
    "when matching dictionaries:"
   ]
  },
  {
   "cell_type": "code",
   "execution_count": null,
   "id": "0f3f59cb",
   "metadata": {},
   "outputs": [],
   "source": [
    "d = {0: \"oi\", 1: \"uno\"}\n",
    "match d:\n",
    "    case {0: \"oi\"}:\n",
    "        print(\"yeah.\")"
   ]
  },
  {
   "cell_type": "markdown",
   "id": "b4c8b643",
   "metadata": {},
   "source": [
    "### Double asterisk **"
   ]
  },
  {
   "cell_type": "code",
   "execution_count": null,
   "id": "30cce743",
   "metadata": {},
   "outputs": [],
   "source": [
    "d = {0: \"oi\", 1: \"uno\"}\n",
    "match d:\n",
    "    case {0: \"oi\", **remainder} if not remainder:\n",
    "        print(\"Single key in the dictionary\")\n",
    "    case {0: \"oi\"}:\n",
    "        print(\"Has key 0 and extra stuff\")\n",
    "    "
   ]
  },
  {
   "cell_type": "code",
   "execution_count": null,
   "id": "922e9d63",
   "metadata": {},
   "outputs": [],
   "source": [
    "match d:\n",
    "    case {0: zero_val, 1: one_val}:\n",
    "        print(f\"0 mapped to {zero_val} and 1 to {one_val}\")\n",
    "# 0 mapped to oi and 1 to uno\n",
    "    "
   ]
  },
  {
   "cell_type": "markdown",
   "id": "7a1bc3bb",
   "metadata": {},
   "source": [
    "### Naming sub-patterns"
   ]
  },
  {
   "cell_type": "raw",
   "id": "adf8fda6",
   "metadata": {},
   "source": [
    "Sometimes you may want to match against a more structured pattern, but then give a name to a part of the\n",
    "pattern, or to the whole thing, so that you have a way to refer back to it. This may happen especially when\n",
    "your pattern has alternatives, which you add with |:"
   ]
  },
  {
   "cell_type": "code",
   "execution_count": null,
   "id": "c041c912",
   "metadata": {},
   "outputs": [],
   "source": [
    "def go(direction):\n",
    "    match direction:\n",
    "        case \"North\" | \"East\" | \"South\" | \"West\":\n",
    "            return \"Alright, I'm going\"\n",
    "        case _:\n",
    "            return \"I can't go that way...\"\n",
    "        "
   ]
  },
  {
   "cell_type": "code",
   "execution_count": null,
   "id": "17b25745",
   "metadata": {},
   "outputs": [],
   "source": [
    "print(go(\"North\")) # Alright, I'm going!\n",
    "print(go(\"asfasdf\")) # I can't go that way..."
   ]
  },
  {
   "cell_type": "code",
   "execution_count": null,
   "id": "9a4053ba",
   "metadata": {},
   "outputs": [],
   "source": [
    "# Now, imagine that the logic to handle that “going” \n",
    "# somewhere is nested inside something more complex:\n",
    "\n",
    "def act(command):\n",
    "    match command.split():\n",
    "        case \"Cook\", \"breakfast\":\n",
    "            return \"I love breakfast\"\n",
    "        case \"Cook\", *wtv:\n",
    "            return \"Cooking .....\"\n",
    "        case \"Go\", \"North\" | \"East\" | \"South\" | \"West\":\n",
    "            return \"Alright, I'm going\"\n",
    "        case \"Go\", *wtv:\n",
    "            return \"I can't go that way....\"\n",
    "        case _:\n",
    "            return \"I can't do that....\""
   ]
  },
  {
   "cell_type": "code",
   "execution_count": null,
   "id": "58b72f7c",
   "metadata": {},
   "outputs": [],
   "source": [
    "print(act(\"Go North\")) # Alright, I'm going!\n",
    "print(act(\"Go asdfasdf\")) # I can't go that way...\n",
    "print(act(\"Cook breakfast\")) # I love breakfast.\n",
    "print(act(\"Drive\")) # I can't do that..."
   ]
  },
  {
   "cell_type": "raw",
   "id": "fa0f3d1e",
   "metadata": {},
   "source": [
    "And, not only that, we want to know where the user wants to go, in order to include that in the message. We\n",
    "can do this by leaving the options up, but then capturing the result of the match in a variable:"
   ]
  },
  {
   "cell_type": "code",
   "execution_count": null,
   "id": "52ea8f77",
   "metadata": {},
   "outputs": [],
   "source": [
    "def act(command):\n",
    "    match command.split():\n",
    "        case \"Cook\", \"breakfast\":\n",
    "            return \"I love breakfast.\"\n",
    "        case \"Cook\", *wtv:\n",
    "             return \"Cooking...\"\n",
    "        case \"Go\", \"North\" | \"East\" | \"South\" | \"West\" as direction:\n",
    "              return f\"Alright, I'm going {direction}!\"\n",
    "        case \"Go\", *wtv:\n",
    "              return \"I can't go that way...\"\n",
    "        case _:\n",
    "              return \"I can't do that...\""
   ]
  },
  {
   "cell_type": "markdown",
   "id": "552f61b4",
   "metadata": {},
   "source": [
    "### Traversing recursive structures"
   ]
  },
  {
   "cell_type": "raw",
   "id": "9d014e34",
   "metadata": {},
   "source": [
    " Another type of situation in which structural pattern matching is expected to succeed quite well is in handling\n",
    "recursive structures.\n",
    "I have seen great examples of this use-case in the references I included below, and will now share one of\n",
    "my own.\n",
    "Imagine you want to transform a mathematical expression into prefix notation, e.g. \"3 * 4\" becomes \"* 3\n",
    "4\" and 1 + 2 + 3 becomes + 1 + 2 3 or + + 1 2 3 depending on whether + associates from the left or from the right "
   ]
  },
  {
   "cell_type": "code",
   "execution_count": null,
   "id": "c98bd404",
   "metadata": {},
   "outputs": [],
   "source": [
    "import ast\n",
    "\n",
    "def prefix(tree):\n",
    "    match tree:\n",
    "        case ast.Expression(expr):\n",
    "            return prefix(expr)\n",
    "        case ast.Constant(value=v):\n",
    "            return str(v)\n",
    "        case ast.BinOp(lhs, op, rhs):\n",
    "            match op:\n",
    "                case ast.Add():\n",
    "                    sop =\"+\"\n",
    "                case ast.Sub():\n",
    "                    sop = \"-\"\n",
    "                case ast.Mult():\n",
    "                    sop = \"*\"\n",
    "                case _:\n",
    "                    raise NotImplementedError()\n",
    "            return f\"{sop} {prefix(lhe)} {prefix(rhs)}\"\n",
    "        case _:\n",
    "            raise NotImplementedError()"
   ]
  },
  {
   "cell_type": "code",
   "execution_count": null,
   "id": "381e0539",
   "metadata": {},
   "outputs": [],
   "source": [
    "print(prefix(ast.parse(\"1 + 2 + 3\", mode=\"eval\")))\n",
    "print(prefix(ast.parse(\"2**3 + 6\", mode=\"eval\")) # + * 2 3 6\n",
    "# Prints '- + 1 * 2 3 / 5 7', take a moment to digest this one.\n",
    "print(prefix(ast.parse(\"1 + 2*3 - 5/7\", mode=\"eval\")))"
   ]
  }
 ],
 "metadata": {
  "kernelspec": {
   "display_name": "Python 3 (ipykernel)",
   "language": "python",
   "name": "python3"
  },
  "language_info": {
   "codemirror_mode": {
    "name": "ipython",
    "version": 3
   },
   "file_extension": ".py",
   "mimetype": "text/x-python",
   "name": "python",
   "nbconvert_exporter": "python",
   "pygments_lexer": "ipython3",
   "version": "3.9.7"
  }
 },
 "nbformat": 4,
 "nbformat_minor": 5
}
