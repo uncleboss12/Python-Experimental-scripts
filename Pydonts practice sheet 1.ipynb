{
 "cells": [
  {
   "cell_type": "code",
   "execution_count": 1,
   "id": "e1218b4b",
   "metadata": {},
   "outputs": [
    {
     "data": {
      "text/plain": [
       "[1, 2, 3, 4, 5, 6]"
      ]
     },
     "execution_count": 1,
     "metadata": {},
     "output_type": "execute_result"
    }
   ],
   "source": [
    "import itertools\n",
    "\n",
    "list_of_lists = [[1, 2, 3], [4], [5, 6]]\n",
    "list(itertools.chain(*list_of_lists))"
   ]
  },
  {
   "cell_type": "code",
   "execution_count": 3,
   "id": "071c9575",
   "metadata": {},
   "outputs": [],
   "source": [
    "def a(b):\n",
    "    return \"\".join([\n",
    "        c.lo() if d % 2 else c.up()\n",
    "        for d, c in enum(b)\n",
    "    ])"
   ]
  },
  {
   "cell_type": "markdown",
   "id": "e9caebc4",
   "metadata": {},
   "source": [
    "The list that follows is not comprehensive, in that there are more naming conventions out there. However,\n",
    "they are not relevant for this Pydon’t.\n",
    "• CAPSLOCK – all letters of all words are upper case and there is nothing to separate consecutive words;\n",
    "• CAPS_LOCK_WITH_UNDERSCORES – like the one above, but with underscores separating words;\n",
    "• lowercase – all letteres of all words are lower case and there is nothing to separate consecutive words;\n",
    "• snake_case – like the one above, but with underscores separating words;\n",
    "• PascalCase – all words are put together, but their initials are capitalised to help you know where one\n",
    "word ends and the other begins; and\n",
    "• camelCase – like the one above, except the very first word starts with a lower case letter as well."
   ]
  },
  {
   "cell_type": "markdown",
   "id": "12e4a644",
   "metadata": {},
   "source": [
    "## One-char names"
   ]
  },
  {
   "cell_type": "code",
   "execution_count": 2,
   "id": "943837a7",
   "metadata": {},
   "outputs": [
    {
     "data": {
      "text/plain": [
       "42"
      ]
     },
     "execution_count": 2,
     "metadata": {},
     "output_type": "execute_result"
    }
   ],
   "source": [
    "l = [42, 10, 20, 73]\n",
    "first, *_, last = l\n",
    "first"
   ]
  },
  {
   "cell_type": "code",
   "execution_count": 4,
   "id": "0c7239d5",
   "metadata": {},
   "outputs": [
    {
     "data": {
      "text/plain": [
       "[10, 20]"
      ]
     },
     "execution_count": 4,
     "metadata": {},
     "output_type": "execute_result"
    }
   ],
   "source": [
    "_"
   ]
  },
  {
   "cell_type": "code",
   "execution_count": 5,
   "id": "6bfdc5a2",
   "metadata": {},
   "outputs": [
    {
     "data": {
      "text/plain": [
       "73"
      ]
     },
     "execution_count": 5,
     "metadata": {},
     "output_type": "execute_result"
    }
   ],
   "source": [
    "last"
   ]
  },
  {
   "cell_type": "code",
   "execution_count": 8,
   "id": "47ba58ae",
   "metadata": {},
   "outputs": [
    {
     "name": "stdout",
     "output_type": "stream",
     "text": [
      "(42, 10, 73)\n"
     ]
    }
   ],
   "source": [
    "print((l[0], l[1], l[3]))"
   ]
  },
  {
   "cell_type": "code",
   "execution_count": 8,
   "id": "4caaae42",
   "metadata": {},
   "outputs": [],
   "source": [
    "# beginner's code \n",
    "\n",
    "def myfunc(a):\n",
    "    empty = []\n",
    "    for i in range(a):\n",
    "        if 1 % 2 == 0:\n",
    "            empty.append(a[i].upper())\n",
    "        else:\n",
    "            empty.append(a[i].upper())\n",
    "    return \"\".join(empty)"
   ]
  },
  {
   "cell_type": "code",
   "execution_count": null,
   "id": "194ca783",
   "metadata": {},
   "outputs": [],
   "source": [
    "# better corrections\n",
    "\n",
    "def alternate_casing(text):\n",
    "    letters = []\n",
    "    for idx in range(text):\n",
    "        letters.append(text[idx].upper())\n",
    "    else:\n",
    "        letters.append(text[idx].upper())\n",
    "    return \"\".join(letters)"
   ]
  },
  {
   "cell_type": "markdown",
   "id": "c72002c9",
   "metadata": {},
   "source": [
    "### Chaining comparison operators"
   ]
  },
  {
   "cell_type": "code",
   "execution_count": 9,
   "id": "aa297403",
   "metadata": {
    "scrolled": true
   },
   "outputs": [
    {
     "name": "stdout",
     "output_type": "stream",
     "text": [
      "Hun!?\n"
     ]
    }
   ],
   "source": [
    "a = 3\n",
    "l = [3, 5]\n",
    "if a in l == True:\n",
    "    print('Yeah :D')\n",
    "else:\n",
    "    print('Hun!?')"
   ]
  },
  {
   "cell_type": "markdown",
   "id": "083bbe54",
   "metadata": {},
   "source": [
    "##### Chaining of comparison operators"
   ]
  },
  {
   "cell_type": "code",
   "execution_count": 10,
   "id": "9338e534",
   "metadata": {},
   "outputs": [
    {
     "name": "stdout",
     "output_type": "stream",
     "text": [
      "increasing seq.\n"
     ]
    }
   ],
   "source": [
    "a = 1\n",
    "b = 2\n",
    "c = 3\n",
    "if a < b < c:\n",
    "    print('increasing seq.')"
   ]
  },
  {
   "cell_type": "code",
   "execution_count": 11,
   "id": "05e0a1f4",
   "metadata": {},
   "outputs": [
    {
     "name": "stdout",
     "output_type": "stream",
     "text": [
      "some are diff\n"
     ]
    }
   ],
   "source": [
    "a = b = 1\n",
    "c = 2\n",
    "if a == b == c:\n",
    "    print('all same')\n",
    "else: \n",
    "    print('some are diff')"
   ]
  },
  {
   "cell_type": "code",
   "execution_count": 12,
   "id": "4ef87e82",
   "metadata": {},
   "outputs": [
    {
     "name": "stdout",
     "output_type": "stream",
     "text": [
      "all same\n"
     ]
    }
   ],
   "source": [
    "c = 1\n",
    "if a == b == c:\n",
    "    print('all same')\n",
    "else:\n",
    "    print('some are diff')"
   ]
  },
  {
   "cell_type": "markdown",
   "id": "853ddaae",
   "metadata": {},
   "source": [
    "### Pitfalls"
   ]
  },
  {
   "cell_type": "code",
   "execution_count": 13,
   "id": "e7130c69",
   "metadata": {},
   "outputs": [
    {
     "name": "stdout",
     "output_type": "stream",
     "text": [
      "a, b, and c all different: 1 2 1\n"
     ]
    }
   ],
   "source": [
    "# Non-transitive operators\n",
    "\n",
    "a = c = 1\n",
    "b = 2\n",
    "if a != b != c:\n",
    "    print('a, b, and c all different:', a, b, c)"
   ]
  },
  {
   "cell_type": "code",
   "execution_count": 14,
   "id": "d9e9d99e",
   "metadata": {},
   "outputs": [
    {
     "name": "stdout",
     "output_type": "stream",
     "text": [
      "hey\n",
      "done\n"
     ]
    }
   ],
   "source": [
    "# Non-constant expressions or side-effects\n",
    "def f():\n",
    "    print('hey')\n",
    "    return 3\n",
    "if 1 < f() < 5:\n",
    "    print('done')"
   ]
  },
  {
   "cell_type": "code",
   "execution_count": 15,
   "id": "8fbd2af3",
   "metadata": {},
   "outputs": [
    {
     "name": "stdout",
     "output_type": "stream",
     "text": [
      "hey\n",
      "hey\n",
      "done\n"
     ]
    }
   ],
   "source": [
    "if 1 < f() and f() < 5:\n",
    "    print('done')"
   ]
  },
  {
   "cell_type": "code",
   "execution_count": 17,
   "id": "38a4e14d",
   "metadata": {},
   "outputs": [
    {
     "name": "stdout",
     "output_type": "stream",
     "text": [
      "ehh\n"
     ]
    }
   ],
   "source": [
    "l = [-2, 2]\n",
    "def f():\n",
    "    global l\n",
    "    l = l[::-1]\n",
    "    return l[0]\n",
    "if 1 < f() and f() < 0:\n",
    "    print('ehh')"
   ]
  },
  {
   "cell_type": "code",
   "execution_count": 19,
   "id": "1cc7666b",
   "metadata": {},
   "outputs": [],
   "source": [
    "# l[::-1] is  a 'slice' that reverse a list"
   ]
  },
  {
   "cell_type": "markdown",
   "id": "ffe8b5cf",
   "metadata": {},
   "source": [
    "### Ugly chains"
   ]
  },
  {
   "cell_type": "markdown",
   "id": "9250709e",
   "metadata": {},
   "source": [
    "This feature looks really natural, but some particular cases aren’t so great. This is a fairly subjective matter,\n",
    "but I personally don’t love chains where the operators aren’t “aligned”, so chains like\n",
    "• a == b == c\n",
    "• a < b <= c\n",
    "• a <= b < c\n",
    "look really good, but in my opinion chains like\n",
    "• a < b > c\n",
    "• a <= b > c\n",
    "• a < b >= c\n",
    "don’t look that good. One can argue, for example, that a < b > c reads nicely as “check if b is larger than\n",
    "both a and c”, but you could also write max(a, c) < b or b > max(a, c).\n",
    "Now there’s some other chains that are just confusing:\n",
    "• a < b is True\n",
    "• a == b in l\n",
    "• a in l is True"
   ]
  },
  {
   "cell_type": "markdown",
   "id": "7e1e509a",
   "metadata": {},
   "source": [
    "### Examples in code\n"
   ]
  },
  {
   "cell_type": "markdown",
   "id": "d95e12f8",
   "metadata": {},
   "source": [
    "#### inequality chain"
   ]
  },
  {
   "cell_type": "code",
   "execution_count": null,
   "id": "ab258101",
   "metadata": {},
   "outputs": [],
   "source": [
    "# Having a simple utility function that ensures that\n",
    "# a given value is between two bounds becomes really \n",
    "# simple,\n",
    "\n",
    "def ensure_within(value, bounds):\n",
    "    return bounds[0] <= value <= bound[1]"
   ]
  },
  {
   "cell_type": "code",
   "execution_count": null,
   "id": "4187aa31",
   "metadata": {},
   "outputs": [],
   "source": [
    "# or if you want to be a little bit more explicit,\n",
    "# while also ensuring bounds is a vector with\n",
    "# exactly two items,\n",
    "\n",
    "def ensure_within(value, bounds):\n",
    "    m, M = bounds\n",
    "    return m <= value <= M\n",
    "    "
   ]
  },
  {
   "cell_type": "markdown",
   "id": "c2676cf5",
   "metadata": {},
   "source": [
    "### Equality chain"
   ]
  },
  {
   "cell_type": "code",
   "execution_count": 26,
   "id": "68c56338",
   "metadata": {},
   "outputs": [],
   "source": [
    "def _is_dunder(name):\n",
    "    \"\"\"Returns True if a __dunder__ name, False otherwise.\"\"\"\n",
    "    return (len(name) > 4 and\n",
    "            name[:2] == name[-2:] == '__' and\n",
    "            name[2] != '_' and\n",
    "            name[-3] != '_')\n",
    "            "
   ]
  },
  {
   "cell_type": "markdown",
   "id": "09f368fe",
   "metadata": {},
   "source": [
    "This function checks if a string is from a “dunder” \n",
    " method or not.“Dunder” comes from “double underscore”\n",
    " and just refers to some Python methods that some classes\n",
    " have, and that allow them to interact nicely with \n",
    "many of Python’s built-in features These methods \n",
    " are called “dunder” because their names start and\n",
    " end with __.You "
   ]
  },
  {
   "cell_type": "code",
   "execution_count": 27,
   "id": "b1e368bb",
   "metadata": {},
   "outputs": [
    {
     "data": {
      "text/plain": [
       "True"
      ]
     },
     "execution_count": 27,
     "metadata": {},
     "output_type": "execute_result"
    }
   ],
   "source": [
    "_is_dunder('__str__')"
   ]
  },
  {
   "cell_type": "code",
   "execution_count": 28,
   "id": "79f24fc1",
   "metadata": {},
   "outputs": [
    {
     "data": {
      "text/plain": [
       "True"
      ]
     },
     "execution_count": 28,
     "metadata": {},
     "output_type": "execute_result"
    }
   ],
   "source": [
    "_is_dunder('__bool__')"
   ]
  },
  {
   "cell_type": "code",
   "execution_count": 29,
   "id": "645a3c1d",
   "metadata": {},
   "outputs": [
    {
     "data": {
      "text/plain": [
       "False"
      ]
     },
     "execution_count": 29,
     "metadata": {},
     "output_type": "execute_result"
    }
   ],
   "source": [
    "_is_dunder('________underscores__')"
   ]
  },
  {
   "cell_type": "code",
   "execution_count": 31,
   "id": "4126f83a",
   "metadata": {},
   "outputs": [
    {
     "data": {
      "text/plain": [
       "'gt'"
      ]
     },
     "execution_count": 31,
     "metadata": {},
     "output_type": "execute_result"
    }
   ],
   "source": [
    "d = 'denmanocurtetgt'\n",
    "\n",
    "d[-2:]"
   ]
  },
  {
   "cell_type": "markdown",
   "id": "3ec33aa9",
   "metadata": {},
   "source": [
    "### Assignment expressions and the walrus operator :="
   ]
  },
  {
   "cell_type": "code",
   "execution_count": 1,
   "id": "845187dc",
   "metadata": {},
   "outputs": [
    {
     "name": "stdout",
     "output_type": "stream",
     "text": [
      "6\n"
     ]
    }
   ],
   "source": [
    "import sys\n",
    "if (i := input())[0] == 'q' or i == 'exit': # WHAT?\n",
    "    sys.exit()"
   ]
  },
  {
   "cell_type": "markdown",
   "id": "08bb27ea",
   "metadata": {},
   "source": [
    "### Walrus operator and assignment expressions"
   ]
  },
  {
   "cell_type": "code",
   "execution_count": 2,
   "id": "a6a5a9b6",
   "metadata": {},
   "outputs": [
    {
     "name": "stdout",
     "output_type": "stream",
     "text": [
      "3\n"
     ]
    }
   ],
   "source": [
    "# The walrus operator is used in assignment expressions,\n",
    "# which means assignments can now be used as a part of\n",
    "# an expression, whereas before Python 3.8 the\n",
    "# assignments were only possible as statements.\n",
    "a = 3\n",
    "print(a)"
   ]
  },
  {
   "cell_type": "code",
   "execution_count": 4,
   "id": "7bd66f0f",
   "metadata": {},
   "outputs": [
    {
     "ename": "TypeError",
     "evalue": "'b' is an invalid keyword argument for print()",
     "output_type": "error",
     "traceback": [
      "\u001b[1;31m---------------------------------------------------------------------------\u001b[0m",
      "\u001b[1;31mTypeError\u001b[0m                                 Traceback (most recent call last)",
      "\u001b[1;32mC:\\Users\\JUSTIN~1.O_K\\AppData\\Local\\Temp/ipykernel_9516/1521795718.py\u001b[0m in \u001b[0;36m<module>\u001b[1;34m\u001b[0m\n\u001b[1;32m----> 1\u001b[1;33m \u001b[0mprint\u001b[0m\u001b[1;33m(\u001b[0m\u001b[0mb\u001b[0m \u001b[1;33m=\u001b[0m \u001b[1;36m3\u001b[0m\u001b[1;33m)\u001b[0m\u001b[1;33m\u001b[0m\u001b[1;33m\u001b[0m\u001b[0m\n\u001b[0m",
      "\u001b[1;31mTypeError\u001b[0m: 'b' is an invalid keyword argument for print()"
     ]
    }
   ],
   "source": [
    "print(b = 3)"
   ]
  },
  {
   "cell_type": "code",
   "execution_count": 5,
   "id": "8d5cf39d",
   "metadata": {},
   "outputs": [
    {
     "name": "stdout",
     "output_type": "stream",
     "text": [
      "3\n"
     ]
    }
   ],
   "source": [
    "print(b := 3)"
   ]
  },
  {
   "cell_type": "code",
   "execution_count": 6,
   "id": "18d007cb",
   "metadata": {
    "scrolled": true
   },
   "outputs": [
    {
     "name": "stdout",
     "output_type": "stream",
     "text": [
      "3\n"
     ]
    }
   ],
   "source": [
    "i = input()\n",
    "if i[0] == 'q' or i == 'exit':\n",
    "    sys.exit()"
   ]
  },
  {
   "cell_type": "markdown",
   "id": "d14b698f",
   "metadata": {},
   "source": [
    "However, good uses of assignment expressions can\n",
    "• make your code faster,\n",
    "• make it more readable/expressive, and\n",
    "• make your code shorter."
   ]
  },
  {
   "cell_type": "markdown",
   "id": "db0ca3d0",
   "metadata": {},
   "source": [
    "### Examples in code"
   ]
  },
  {
   "cell_type": "markdown",
   "id": "c2995148",
   "metadata": {},
   "source": [
    "##### Controlling a while loop with initialisation"
   ]
  },
  {
   "cell_type": "code",
   "execution_count": 8,
   "id": "a5f9aa1a",
   "metadata": {},
   "outputs": [
    {
     "name": "stdout",
     "output_type": "stream",
     "text": [
      "2\n",
      "1\n",
      "2\n",
      "3\n",
      "4\n",
      "5\n",
      "333\n",
      "0.2\n",
      "\n"
     ]
    }
   ],
   "source": [
    "# Consider the following while loop:\n",
    "inp = input()\n",
    "while inp:\n",
    "    eval(inp)\n",
    "    inp = input()"
   ]
  },
  {
   "cell_type": "code",
   "execution_count": 10,
   "id": "32796a81",
   "metadata": {},
   "outputs": [
    {
     "name": "stdout",
     "output_type": "stream",
     "text": [
      " >> 2\n",
      " >> 2\n",
      " >> 2\n",
      " >> 2\n",
      " >> 2\n",
      " >> 2\n",
      " >> 2\n",
      " >> 34\n",
      " >> \n"
     ]
    }
   ],
   "source": [
    "# With an assignment expression, the above can be\n",
    "# rewritten as:\n",
    "while inp := input(\" >> \"):\n",
    "        eval(inp)"
   ]
  },
  {
   "cell_type": "code",
   "execution_count": 12,
   "id": "4dde2fae",
   "metadata": {},
   "outputs": [
    {
     "name": "stdout",
     "output_type": "stream",
     "text": [
      " zZZ 44\n",
      " zZZ 32\n",
      " zZZ 23\n",
      " zZZ 12\n",
      " zZZ 6\n",
      " zZZ 5\n",
      " zZZ 4\n",
      " zZZ 34\n",
      " zZZ 90\n",
      " zZZ \n"
     ]
    }
   ],
   "source": [
    "while sieve := input(\" zZZ \"):\n",
    "        eval(sieve)"
   ]
  },
  {
   "cell_type": "markdown",
   "id": "740ff43e",
   "metadata": {},
   "source": [
    "### Reducing visual noise"
   ]
  },
  {
   "cell_type": "code",
   "execution_count": 1,
   "id": "1bb5790a",
   "metadata": {},
   "outputs": [],
   "source": [
    "def trailing_zeros(n):\n",
    "    s = str(n)\n",
    "    return len(s) - len(s.strip('0'))"
   ]
  },
  {
   "cell_type": "code",
   "execution_count": 31,
   "id": "e19b542a",
   "metadata": {},
   "outputs": [],
   "source": [
    "def trailing_zeroes(n):\n",
    "    return(s := len(s) - len(s.strip('0')))"
   ]
  },
  {
   "cell_type": "markdown",
   "id": "391db11e",
   "metadata": {},
   "source": [
    "#### Reuse computations in list comprehensions"
   ]
  },
  {
   "cell_type": "code",
   "execution_count": 3,
   "id": "8b27b847",
   "metadata": {},
   "outputs": [],
   "source": [
    "from math import factorial as fact"
   ]
  },
  {
   "cell_type": "code",
   "execution_count": 35,
   "id": "aac11027",
   "metadata": {},
   "outputs": [],
   "source": [
    "l = [3, 17, 89, 15, 58, 193]\n",
    "facts = [fact(num) for num in l if trailing_zeros(fact(num)) > 50]"
   ]
  },
  {
   "cell_type": "code",
   "execution_count": 36,
   "id": "c061d2c7",
   "metadata": {},
   "outputs": [
    {
     "data": {
      "text/plain": [
       "[]"
      ]
     },
     "execution_count": 36,
     "metadata": {},
     "output_type": "execute_result"
    }
   ],
   "source": [
    "facts"
   ]
  },
  {
   "cell_type": "code",
   "execution_count": 37,
   "id": "62c25b57",
   "metadata": {},
   "outputs": [],
   "source": [
    "l = [3, 17, 89, 15, 58, 193]\n",
    "facts = [f for num in l if trailing_zeros(f := fact(num)) > 50]"
   ]
  },
  {
   "cell_type": "code",
   "execution_count": 38,
   "id": "9dc42b87",
   "metadata": {},
   "outputs": [
    {
     "data": {
      "text/plain": [
       "[]"
      ]
     },
     "execution_count": 38,
     "metadata": {},
     "output_type": "execute_result"
    }
   ],
   "source": [
    "facts"
   ]
  },
  {
   "cell_type": "code",
   "execution_count": 4,
   "id": "00aebed7",
   "metadata": {},
   "outputs": [],
   "source": [
    "# without an assignment expression\n",
    "l = [3, 17, 89, 15, 58, 193]\n",
    "# Alternate 1\n",
    "facts = [fact(num) for num in l]\n",
    "facts = [num for num in facts if trailing_zeros(num) > 50]"
   ]
  },
  {
   "cell_type": "code",
   "execution_count": 5,
   "id": "dc3acdc5",
   "metadata": {},
   "outputs": [],
   "source": [
    "# Alternative 2\n",
    "facts = [num for num in map(fact, l) if trailing_zeros(num) > 50]"
   ]
  },
  {
   "cell_type": "markdown",
   "id": "cfc059f2",
   "metadata": {},
   "source": [
    "###  Flattening related logic"
   ]
  },
  {
   "cell_type": "code",
   "execution_count": 10,
   "id": "dd4870c1",
   "metadata": {},
   "outputs": [
    {
     "name": "stdout",
     "output_type": "stream",
     "text": [
      "Your contact info: >> justineobiazi@gmail.com\n",
      "Your email is justineobiazi@gmail.com.\n"
     ]
    }
   ],
   "source": [
    "import re \n",
    "\n",
    "string = input('Your contact info: >> ')\n",
    "email = re.search(r'\\b(\\w+@\\w+\\.com)\\b', string)\n",
    "if email:\n",
    "    print(f'Your email is {email.group(1)}.')\n",
    "else:\n",
    "    phone = re.search(r'\\d{9}', string)\n",
    "    if phone:\n",
    "        print(f'Your phone is {phone.group(0)}.')\n",
    "    else:\n",
    "        print('No info found...')\n"
   ]
  },
  {
   "cell_type": "code",
   "execution_count": 13,
   "id": "0ab13f40",
   "metadata": {},
   "outputs": [],
   "source": [
    "# Notice the code above is nested, but the logic is\n",
    "# flat: we look for successive things and stop as\n",
    "# soon as we find something. With assignment\n",
    "# expressions this could be rewritten as:\n",
    "import re"
   ]
  },
  {
   "cell_type": "code",
   "execution_count": 14,
   "id": "ffc97815",
   "metadata": {},
   "outputs": [
    {
     "name": "stdout",
     "output_type": "stream",
     "text": [
      "Your email is justineobiazi@gmail.com.\n"
     ]
    }
   ],
   "source": [
    "if email := re.search(r\"\\b(\\w+@\\w+\\.com)\\b\", string):\n",
    "        print(f\"Your email is {email.group(1)}.\")\n",
    "elif phone := re.search(r\"\\d{9}\", string):\n",
    "        print(f\"Your phone is {phone.group(0)}.\")\n",
    "else:\n",
    "    print(\"No info found...\")"
   ]
  },
  {
   "cell_type": "code",
   "execution_count": 1,
   "id": "99e4ac15",
   "metadata": {},
   "outputs": [
    {
     "data": {
      "text/plain": [
       "'num_doors_3'"
      ]
     },
     "execution_count": 1,
     "metadata": {},
     "output_type": "execute_result"
    }
   ],
   "source": [
    "\"num_doors_%s\" % 3"
   ]
  },
  {
   "cell_type": "code",
   "execution_count": 2,
   "id": "c39988d3",
   "metadata": {},
   "outputs": [
    {
     "data": {
      "text/plain": [
       "1"
      ]
     },
     "execution_count": 2,
     "metadata": {},
     "output_type": "execute_result"
    }
   ],
   "source": [
    "sum(x**2 for x in [-1,0,1] if x>0)"
   ]
  },
  {
   "cell_type": "code",
   "execution_count": null,
   "id": "cc76f317",
   "metadata": {},
   "outputs": [],
   "source": [
    "def f1(list_of_list):\n",
    "    result = []\n",
    "    for inner_list in list_of_list:\n",
    "        for x in inner_list:\n",
    "            if x not in result:\n",
    "                result.append(x)\n",
    "    return result\n",
    "\n",
    "def f2(list_of_list):\n",
    "    flat_list = []\n",
    "    for inner_list in list_of_list:\n",
    "        flat_list.extend(inner_list)\n",
    "    return [\n",
    "        x for i, x in enumerate(flat_list)\n",
    "        if flat_list.index(x) == i]\n",
    "\n",
    "def f3(list_of_list):\n",
    "    result = []\n",
    "    seen = set()\n",
    "    for inner_list in list_of_list:\n",
    "        for x in inner_list:\n",
    "            if x not in seen:\n",
    "                result.append(x)\n",
    "                seen.add(x)\n",
    "    return result"
   ]
  }
 ],
 "metadata": {
  "kernelspec": {
   "display_name": "Python 3 (ipykernel)",
   "language": "python",
   "name": "python3"
  },
  "language_info": {
   "codemirror_mode": {
    "name": "ipython",
    "version": 3
   },
   "file_extension": ".py",
   "mimetype": "text/x-python",
   "name": "python",
   "nbconvert_exporter": "python",
   "pygments_lexer": "ipython3",
   "version": "3.9.7"
  }
 },
 "nbformat": 4,
 "nbformat_minor": 5
}
