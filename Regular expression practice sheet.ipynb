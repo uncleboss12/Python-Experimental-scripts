{
 "cells": [
  {
   "cell_type": "code",
   "execution_count": null,
   "metadata": {},
   "outputs": [],
   "source": []
  },
  {
   "cell_type": "code",
   "execution_count": null,
   "id": "2f2c61fb",
   "metadata": {},
   "outputs": [],
   "source": [
    "import re"
   ]
  },
  {
   "cell_type": "code",
   "execution_count": null,
   "id": "16816f49",
   "metadata": {},
   "outputs": [
    {
     "data": {
      "text/plain": [
       "'foo'"
      ]
     },
     "metadata": {},
     "output_type": "display_data"
    }
   ],
   "source": [
    "s = 'I like foo bar and baz'\n",
    "r  = re.compile('foo')\n",
    "m = r.search(s)\n",
    "m.group(0)"
   ]
  },
  {
   "cell_type": "code",
   "execution_count": null,
   "id": "0dc5f6c8",
   "metadata": {},
   "outputs": [],
   "source": [
    "r = re.compile('\\\\bfoo\\\\b')"
   ]
  },
  {
   "cell_type": "code",
   "execution_count": null,
   "id": "b198ab4f",
   "metadata": {},
   "outputs": [],
   "source": [
    "s = 'I like foo bar and baz'\n",
    "m = r.search(s)"
   ]
  },
  {
   "cell_type": "code",
   "execution_count": null,
   "id": "a09a60f5",
   "metadata": {},
   "outputs": [
    {
     "data": {
      "text/plain": [
       "'foo'"
      ]
     },
     "metadata": {},
     "output_type": "display_data"
    }
   ],
   "source": [
    "m.group(0)"
   ]
  },
  {
   "cell_type": "code",
   "execution_count": null,
   "id": "3aacb9e2",
   "metadata": {},
   "outputs": [],
   "source": [
    "m = 'when i walk with the fool he is always trying to make a fool out of me, what a fool'"
   ]
  },
  {
   "cell_type": "code",
   "execution_count": null,
   "id": "46a2df6a",
   "metadata": {},
   "outputs": [],
   "source": [
    "f = re.findall('foo', m)"
   ]
  },
  {
   "cell_type": "code",
   "execution_count": null,
   "id": "2e11b2f3",
   "metadata": {},
   "outputs": [
    {
     "data": {
      "text/plain": [
       "['foo', 'foo', 'foo']"
      ]
     },
     "metadata": {},
     "output_type": "display_data"
    }
   ],
   "source": [
    "f"
   ]
  },
  {
   "cell_type": "code",
   "execution_count": null,
   "id": "da9985e9",
   "metadata": {},
   "outputs": [],
   "source": [
    "li = ' people have a thing for dogs but peeps don\\'t try for a pope is the only guy that preppy that will allow him pump the ball for the occasion for the plump'"
   ]
  },
  {
   "cell_type": "code",
   "execution_count": null,
   "id": "f9213540",
   "metadata": {},
   "outputs": [],
   "source": [
    "vv = re.compile('p..p')"
   ]
  },
  {
   "cell_type": "code",
   "execution_count": null,
   "id": "04c6ed8b",
   "metadata": {},
   "outputs": [],
   "source": [
    "m = vv.search(li)"
   ]
  },
  {
   "cell_type": "code",
   "execution_count": null,
   "id": "6d6e9dee",
   "metadata": {},
   "outputs": [
    {
     "data": {
      "text/plain": [
       "'peop'"
      ]
     },
     "metadata": {},
     "output_type": "display_data"
    }
   ],
   "source": [
    "m.group(0)"
   ]
  },
  {
   "cell_type": "code",
   "execution_count": null,
   "id": "cdd11e60",
   "metadata": {},
   "outputs": [],
   "source": [
    "weed = 'after he came to see us, he started acting like a ampla when we ask him about it he was angry and boldly insulted his uncle and he was thrown out instantly '\n"
   ]
  },
  {
   "cell_type": "code",
   "execution_count": null,
   "id": "1b64f6fb",
   "metadata": {},
   "outputs": [],
   "source": [
    "r = re.compile('a.{3,5}b.{3.5}c')"
   ]
  },
  {
   "cell_type": "code",
   "execution_count": null,
   "id": "1db05391",
   "metadata": {},
   "outputs": [],
   "source": [
    "m = r.search(weed)\n",
    "\n",
    "\n"
   ]
  },
  {
   "cell_type": "code",
   "execution_count": null,
   "id": "bb6d26a7",
   "metadata": {},
   "outputs": [
    {
     "ename": "AttributeError",
     "evalue": "'NoneType' object has no attribute 'start'",
     "output_type": "error",
     "traceback": [
      "\u001b[1;31m---------------------------------------------------------------------------\u001b[0m\n",
      "\u001b[1;31mAttributeError\u001b[0m                            Traceback (most recent call last)\n",
      "\u001b[1;32mC:\\Users\\JUSTIN~1.O_K\\AppData\\Local\\Temp/ipykernel_18624/1084576582.py\u001b[0m in \u001b[0;36m<module>\u001b[1;34m\u001b[0m\n",
      "\u001b[1;32m----> 1\u001b[1;33m \u001b[0mm\u001b[0m\u001b[1;33m.\u001b[0m\u001b[0mstart\u001b[0m\u001b[1;33m(\u001b[0m\u001b[1;33m)\u001b[0m\u001b[1;33m\u001b[0m\u001b[1;33m\u001b[0m\u001b[0m\n",
      "\u001b[0m\n",
      "\u001b[1;31mAttributeError\u001b[0m: 'NoneType' object has no attribute 'start'"
     ]
    }
   ],
   "source": [
    "m.start()"
   ]
  },
  {
   "cell_type": "code",
   "execution_count": null,
   "id": "754c9232",
   "metadata": {},
   "outputs": [],
   "source": [
    "p = re.compile('ab*')"
   ]
  },
  {
   "cell_type": "code",
   "execution_count": null,
   "id": "6c9c4c3d",
   "metadata": {},
   "outputs": [
    {
     "data": {
      "text/plain": [
       "re.compile(r'ab*', re.UNICODE)"
      ]
     },
     "metadata": {},
     "output_type": "display_data"
    }
   ],
   "source": [
    "p"
   ]
  },
  {
   "cell_type": "code",
   "execution_count": null,
   "id": "84339442",
   "metadata": {},
   "outputs": [],
   "source": [
    "p = re.compile('ab*', re.IGNORECASE)"
   ]
  },
  {
   "cell_type": "code",
   "execution_count": null,
   "id": "cb6f7b40",
   "metadata": {},
   "outputs": [],
   "source": [
    "p = re.compile('(a-z)+')"
   ]
  },
  {
   "cell_type": "code",
   "execution_count": null,
   "id": "ab85b0e6",
   "metadata": {},
   "outputs": [
    {
     "data": {
      "text/plain": [
       "re.compile(r'(a-z)+', re.UNICODE)"
      ]
     },
     "metadata": {},
     "output_type": "display_data"
    }
   ],
   "source": [
    "p"
   ]
  },
  {
   "cell_type": "code",
   "execution_count": null,
   "id": "f97a2004",
   "metadata": {
    "scrolled": true
   },
   "outputs": [
    {
     "name": "stdout",
     "output_type": "stream",
     "text": [
      "None\n"
     ]
    }
   ],
   "source": [
    "p.match(\"\")\n",
    "print(p.match(\"\"))"
   ]
  },
  {
   "cell_type": "code",
   "execution_count": null,
   "id": "ed5e2476",
   "metadata": {},
   "outputs": [],
   "source": [
    "m = p.match('tempo')"
   ]
  },
  {
   "cell_type": "code",
   "execution_count": null,
   "id": "0a1ed96c",
   "metadata": {},
   "outputs": [],
   "source": [
    "m"
   ]
  },
  {
   "cell_type": "code",
   "execution_count": null,
   "id": "7086f6c9",
   "metadata": {},
   "outputs": [
    {
     "ename": "AttributeError",
     "evalue": "'NoneType' object has no attribute 'group'",
     "output_type": "error",
     "traceback": [
      "\u001b[1;31m---------------------------------------------------------------------------\u001b[0m\n",
      "\u001b[1;31mAttributeError\u001b[0m                            Traceback (most recent call last)\n",
      "\u001b[1;32mC:\\Users\\JUSTIN~1.O_K\\AppData\\Local\\Temp/ipykernel_18624/2592475637.py\u001b[0m in \u001b[0;36m<module>\u001b[1;34m\u001b[0m\n",
      "\u001b[1;32m----> 1\u001b[1;33m \u001b[0mm\u001b[0m\u001b[1;33m.\u001b[0m\u001b[0mgroup\u001b[0m\u001b[1;33m(\u001b[0m\u001b[1;33m)\u001b[0m\u001b[1;33m\u001b[0m\u001b[1;33m\u001b[0m\u001b[0m\n",
      "\u001b[0m\n",
      "\u001b[1;31mAttributeError\u001b[0m: 'NoneType' object has no attribute 'group'"
     ]
    }
   ],
   "source": [
    "m.group()"
   ]
  },
  {
   "cell_type": "code",
   "execution_count": null,
   "id": "75eb10f2",
   "metadata": {
    "scrolled": true
   },
   "outputs": [
    {
     "ename": "AttributeError",
     "evalue": "'NoneType' object has no attribute 'start'",
     "output_type": "error",
     "traceback": [
      "\u001b[1;31m---------------------------------------------------------------------------\u001b[0m\n",
      "\u001b[1;31mAttributeError\u001b[0m                            Traceback (most recent call last)\n",
      "\u001b[1;32mC:\\Users\\JUSTIN~1.O_K\\AppData\\Local\\Temp/ipykernel_18624/2766962444.py\u001b[0m in \u001b[0;36m<module>\u001b[1;34m\u001b[0m\n",
      "\u001b[1;32m----> 1\u001b[1;33m \u001b[0mm\u001b[0m\u001b[1;33m.\u001b[0m\u001b[0mstart\u001b[0m\u001b[1;33m(\u001b[0m\u001b[1;33m)\u001b[0m\u001b[1;33m,\u001b[0m \u001b[0mm\u001b[0m\u001b[1;33m.\u001b[0m\u001b[0mend\u001b[0m\u001b[1;33m(\u001b[0m\u001b[1;33m)\u001b[0m\u001b[1;33m\u001b[0m\u001b[1;33m\u001b[0m\u001b[0m\n",
      "\u001b[0m\n",
      "\u001b[1;31mAttributeError\u001b[0m: 'NoneType' object has no attribute 'start'"
     ]
    }
   ],
   "source": [
    "m.start(), m.end()"
   ]
  },
  {
   "cell_type": "code",
   "execution_count": null,
   "id": "664efff8",
   "metadata": {},
   "outputs": [
    {
     "name": "stdout",
     "output_type": "stream",
     "text": [
      "None\n"
     ]
    }
   ],
   "source": [
    "print(p.match('::: message'))"
   ]
  },
  {
   "cell_type": "code",
   "execution_count": null,
   "id": "b0aec3ce",
   "metadata": {},
   "outputs": [
    {
     "name": "stdout",
     "output_type": "stream",
     "text": [
      "None\n"
     ]
    }
   ],
   "source": [
    "m = p.search('::: message'); print(m)"
   ]
  },
  {
   "cell_type": "code",
   "execution_count": null,
   "id": "80a4fdcc",
   "metadata": {},
   "outputs": [
    {
     "data": {
      "text/plain": [
       "'abcbef'"
      ]
     },
     "metadata": {},
     "output_type": "display_data"
    }
   ],
   "source": [
    "import re \n",
    "text = 'abcbefghijk'\n",
    "parser = re.search('a[b-f]*f', text)\n",
    "parser.group()"
   ]
  },
  {
   "cell_type": "code",
   "execution_count": null,
   "id": "92aaa3eb",
   "metadata": {
    "scrolled": true
   },
   "outputs": [
    {
     "data": {
      "text/plain": [
       "'abcbef'"
      ]
     },
     "metadata": {},
     "output_type": "display_data"
    }
   ],
   "source": [
    "text = 'abcbefghijk'\n",
    "parser = re.search('a[^g]{5}', text)\n",
    "parser.group()"
   ]
  },
  {
   "cell_type": "code",
   "execution_count": null,
   "id": "5634d0f5",
   "metadata": {},
   "outputs": [
    {
     "name": "stdout",
     "output_type": "stream",
     "text": [
      "Did not find \"the\"\n",
      "Found one in The ants go marching one by one \n"
     ]
    }
   ],
   "source": [
    "text = 'The ants go marching one by one'\n",
    "strings = ['the', 'one']\n",
    "\n",
    "for string in strings:\n",
    "    match = re.search(string, text)\n",
    "    if match:\n",
    "        print('Found {} in {} '.format(string, text))\n",
    "    else:\n",
    "        print('Did not find \"{}\"'.format(string))"
   ]
  },
  {
   "cell_type": "code",
   "execution_count": null,
   "id": "6b1f032c",
   "metadata": {},
   "outputs": [
    {
     "data": {
      "text/plain": [
       "['the', 'the']"
      ]
     },
     "metadata": {},
     "output_type": "display_data"
    }
   ],
   "source": [
    "silly_string = 'the cat in the hat'\n",
    "pattern = 'the'\n",
    "re.findall(pattern, silly_string)"
   ]
  },
  {
   "cell_type": "code",
   "execution_count": null,
   "id": "746e5b03",
   "metadata": {
    "scrolled": true
   },
   "outputs": [
    {
     "name": "stdout",
     "output_type": "stream",
     "text": [
      "Found the at 0:3\n",
      "Found the at 11:14\n"
     ]
    }
   ],
   "source": [
    "silly_string = 'the cat in the hat'\n",
    "pattern = 'the'\n",
    "\n",
    "for match in re.finditer(pattern, silly_string):\n",
    "    s = 'Found {group} at {begin}:{end}'.format(group=match.group(), begin=match.start(), end=match.end())\n",
    "    print(s)"
   ]
  },
  {
   "cell_type": "code",
   "execution_count": null,
   "id": "7b22b508",
   "metadata": {},
   "outputs": [
    {
     "data": {
      "text/plain": [
       "'anada'"
      ]
     },
     "metadata": {},
     "output_type": "display_data"
    }
   ],
   "source": [
    "countries = 'U.S.A Canada Argentina Mexico'\n",
    "dt = re.search('a...a', countries)\n",
    "dt.group()"
   ]
  },
  {
   "cell_type": "code",
   "execution_count": null,
   "id": "f62a5ab0",
   "metadata": {},
   "outputs": [
    {
     "data": {
      "text/plain": [
       "['U.S.A']"
      ]
     },
     "metadata": {},
     "output_type": "display_data"
    }
   ],
   "source": [
    "countries = 'U.S.A Canada Argentina Mexico colour'\n",
    "dt = re.findall('U\\.S\\.A', countries)\n",
    "dt"
   ]
  },
  {
   "cell_type": "code",
   "execution_count": null,
   "id": "dc72bf83",
   "metadata": {},
   "outputs": [
    {
     "data": {
      "text/plain": [
       "['abc', 'azc']"
      ]
     },
     "metadata": {},
     "output_type": "display_data"
    }
   ],
   "source": [
    "det = 'abc a\\nc azc'\n",
    "c = re.findall('a.c', det)\n",
    "c\n"
   ]
  },
  {
   "cell_type": "code",
   "execution_count": null,
   "id": "9e0e8be7",
   "metadata": {},
   "outputs": [
    {
     "data": {
      "text/plain": [
       "['color']"
      ]
     },
     "metadata": {},
     "output_type": "display_data"
    }
   ],
   "source": [
    "designs = \"color schedule designers for granted as an incompetent human can't \"\n",
    "f = re.findall('colou?r', designs)\n",
    "f"
   ]
  },
  {
   "cell_type": "code",
   "execution_count": null,
   "id": "ae3f654b",
   "metadata": {
    "scrolled": true
   },
   "outputs": [
    {
     "data": {
      "text/plain": [
       "'a b'"
      ]
     },
     "metadata": {},
     "output_type": "display_data"
    }
   ],
   "source": [
    "let = 'xyza bcde'\n",
    "f = re.search('a b', let)\n",
    "f.group()"
   ]
  },
  {
   "cell_type": "code",
   "execution_count": null,
   "id": "835265ff",
   "metadata": {
    "scrolled": true
   },
   "outputs": [
    {
     "name": "stdout",
     "output_type": "stream",
     "text": [
      "45\n"
     ]
    },
    {
     "data": {
      "text/plain": [
       "46"
      ]
     },
     "metadata": {},
     "output_type": "display_data"
    }
   ],
   "source": [
    "text = 'Ali is coming to see a friend He AA          BB wAAnt to Use BB to disturn the family'\n",
    "f = re.search('A*B', text)\n",
    "print(f.start())\n",
    "f.end()"
   ]
  },
  {
   "cell_type": "markdown",
   "id": "e78a97b4",
   "metadata": {},
   "source": [
    "### GROUPING"
   ]
  },
  {
   "cell_type": "code",
   "execution_count": null,
   "id": "79240f60",
   "metadata": {},
   "outputs": [],
   "source": [
    "# How we can retrieve the contents of group #1\n",
    "import re \n",
    "s = 'His number used to be 212-555-1111, but he recently changed to 212-555-2222.'"
   ]
  },
  {
   "cell_type": "code",
   "execution_count": null,
   "id": "39991173",
   "metadata": {},
   "outputs": [
    {
     "name": "stdout",
     "output_type": "stream",
     "text": [
      "Phone number is 212-555-1111, with an area code of 212\n"
     ]
    }
   ],
   "source": [
    "m = re.search('(\\d{3})-\\d{3}-\\d{4}', s)\n",
    "if m: \n",
    "    print(\"Phone number is {0}, with an area code of {1}\".format(m.group(0), m.group(1)))"
   ]
  },
  {
   "cell_type": "code",
   "execution_count": null,
   "id": "d660eaa1",
   "metadata": {},
   "outputs": [
    {
     "data": {
      "text/plain": [
       "['212', '212']"
      ]
     },
     "metadata": {},
     "output_type": "display_data"
    }
   ],
   "source": [
    "s = 'His number used to be 212-555-1111, but he recently changed to 212-555-2222.'\n",
    "\n",
    "re.findall('(\\d{3})-\\d{3}-\\d{4}', s)"
   ]
  },
  {
   "cell_type": "code",
   "execution_count": null,
   "id": "4ca1fb7d",
   "metadata": {},
   "outputs": [
    {
     "data": {
      "text/plain": [
       "'er used to be 212-555-1111, but he recently changed t'"
      ]
     },
     "metadata": {},
     "output_type": "display_data"
    }
   ],
   "source": [
    "m = re.search('e.+n*t', s)\n",
    "\n",
    "m.group() "
   ]
  },
  {
   "cell_type": "code",
   "execution_count": null,
   "id": "757a8565",
   "metadata": {},
   "outputs": [
    {
     "data": {
      "text/plain": [
       "[('212-555-1111', '212'), ('212-555-2222', '212')]"
      ]
     },
     "metadata": {},
     "output_type": "display_data"
    }
   ],
   "source": [
    "re.findall('((\\d{3})-\\d{3}-\\d{4})', s)"
   ]
  }
 ],
 "metadata": {
  "language_info": {
   "name": "python"
  },
  "orig_nbformat": 4
 },
 "nbformat": 4,
 "nbformat_minor": 2
}
